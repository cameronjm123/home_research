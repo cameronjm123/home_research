{
 "cells": [
  {
   "cell_type": "markdown",
   "id": "3cb97d44-ed41-4d6f-892a-163b18ae9242",
   "metadata": {},
   "source": [
    "# Entropy as a Predictor for Intraday Volatility in FX"
   ]
  },
  {
   "cell_type": "markdown",
   "id": "52a85586-d086-4489-acdf-6142bfb113e2",
   "metadata": {},
   "source": [
    "We consider entropy as an estimator of intraday volatility. 'True' volatility is calculated as the 15 minute returns standard deviation across the day, whilst entropy is calculated using the same data - where we aim to estimate the volatility for the following day. This is done as opposed to estimates based on a rolling window.\n",
    "\n",
    "Various entropy measures and predictive relationships are explored between entropy and volatility. We consider a GARCH + entropy measurement, linear regression, then non linear estimates based on decision trees, gradient boosting trees.\n",
    "\n",
    "Given the volatility is not actually observed, we also apply our best estimator within a Kalman filter to attempt to form better estimates.\n",
    "\n",
    "We initially use EURUSD data, then extend to other currency pairs. We begin working on low frequency data, looking later at higher frequency data to see if the model atill holds, taking advantage of the use of neural networks where we not have more data.\n",
    "As an extension, we use mutual information as a way to estimate currency pair correlation, and hence the 'driving currency' of volatility. This could in theory be used to predict covariance matrices maybe?"
   ]
  },
  {
   "cell_type": "code",
   "execution_count": 1,
   "id": "11f22b45-5542-4ba0-ab3f-88dd83cfe42a",
   "metadata": {},
   "outputs": [],
   "source": [
    "import numpy as np\n",
    "import pandas as pd\n",
    "import matplotlib.pyplot as plt\n",
    "import sys\n",
    "sys.path.append('..')"
   ]
  },
  {
   "cell_type": "code",
   "execution_count": 2,
   "id": "47e01344-9f91-44e5-ad11-482cfd73768f",
   "metadata": {},
   "outputs": [],
   "source": [
    "path = 'C:/Users/camer/OneDrive/Documents/dev/home_research/data/volatility_entropy_project_fx/'"
   ]
  },
  {
   "cell_type": "markdown",
   "id": "067fb89e-618b-465c-9fee-85b14b0d2018",
   "metadata": {},
   "source": [
    "## 15-min data"
   ]
  },
  {
   "cell_type": "code",
   "execution_count": 11,
   "id": "da0db9c7-28e8-4cf2-aca9-f34dcb3f04bc",
   "metadata": {},
   "outputs": [
    {
     "data": {
      "text/html": [
       "<div>\n",
       "<style scoped>\n",
       "    .dataframe tbody tr th:only-of-type {\n",
       "        vertical-align: middle;\n",
       "    }\n",
       "\n",
       "    .dataframe tbody tr th {\n",
       "        vertical-align: top;\n",
       "    }\n",
       "\n",
       "    .dataframe thead th {\n",
       "        text-align: right;\n",
       "    }\n",
       "</style>\n",
       "<table border=\"1\" class=\"dataframe\">\n",
       "  <thead>\n",
       "    <tr style=\"text-align: right;\">\n",
       "      <th></th>\n",
       "      <th>DATE_TIME</th>\n",
       "      <th>CLOSE</th>\n",
       "    </tr>\n",
       "  </thead>\n",
       "  <tbody>\n",
       "    <tr>\n",
       "      <th>0</th>\n",
       "      <td>2000.01.03 00:00:00</td>\n",
       "      <td>1.00770</td>\n",
       "    </tr>\n",
       "    <tr>\n",
       "      <th>1</th>\n",
       "      <td>2000.01.03 00:15:00</td>\n",
       "      <td>1.00860</td>\n",
       "    </tr>\n",
       "    <tr>\n",
       "      <th>2</th>\n",
       "      <td>2000.01.03 00:30:00</td>\n",
       "      <td>1.00790</td>\n",
       "    </tr>\n",
       "    <tr>\n",
       "      <th>3</th>\n",
       "      <td>2000.01.03 00:45:00</td>\n",
       "      <td>1.01280</td>\n",
       "    </tr>\n",
       "    <tr>\n",
       "      <th>4</th>\n",
       "      <td>2000.01.03 01:00:00</td>\n",
       "      <td>1.01220</td>\n",
       "    </tr>\n",
       "    <tr>\n",
       "      <th>...</th>\n",
       "      <td>...</td>\n",
       "      <td>...</td>\n",
       "    </tr>\n",
       "    <tr>\n",
       "      <th>500746</th>\n",
       "      <td>2020.03.19 05:00:00</td>\n",
       "      <td>1.08895</td>\n",
       "    </tr>\n",
       "    <tr>\n",
       "      <th>500747</th>\n",
       "      <td>2020.03.19 05:15:00</td>\n",
       "      <td>1.08872</td>\n",
       "    </tr>\n",
       "    <tr>\n",
       "      <th>500748</th>\n",
       "      <td>2020.03.19 05:30:00</td>\n",
       "      <td>1.09086</td>\n",
       "    </tr>\n",
       "    <tr>\n",
       "      <th>500749</th>\n",
       "      <td>2020.03.19 05:45:00</td>\n",
       "      <td>1.08970</td>\n",
       "    </tr>\n",
       "    <tr>\n",
       "      <th>500750</th>\n",
       "      <td>2020.03.19 06:00:00</td>\n",
       "      <td>1.08965</td>\n",
       "    </tr>\n",
       "  </tbody>\n",
       "</table>\n",
       "<p>500751 rows × 2 columns</p>\n",
       "</div>"
      ],
      "text/plain": [
       "                  DATE_TIME    CLOSE\n",
       "0       2000.01.03 00:00:00  1.00770\n",
       "1       2000.01.03 00:15:00  1.00860\n",
       "2       2000.01.03 00:30:00  1.00790\n",
       "3       2000.01.03 00:45:00  1.01280\n",
       "4       2000.01.03 01:00:00  1.01220\n",
       "...                     ...      ...\n",
       "500746  2020.03.19 05:00:00  1.08895\n",
       "500747  2020.03.19 05:15:00  1.08872\n",
       "500748  2020.03.19 05:30:00  1.09086\n",
       "500749  2020.03.19 05:45:00  1.08970\n",
       "500750  2020.03.19 06:00:00  1.08965\n",
       "\n",
       "[500751 rows x 2 columns]"
      ]
     },
     "execution_count": 11,
     "metadata": {},
     "output_type": "execute_result"
    }
   ],
   "source": [
    "eurusd_data = pd.read_csv(path + 'EURUSD-2000-2020-15m.csv')[['DATE_TIME', 'CLOSE']]\n",
    "eurusd_data"
   ]
  },
  {
   "cell_type": "code",
   "execution_count": 16,
   "id": "929763ab-610c-46c2-bb3b-f59fbb7a9420",
   "metadata": {},
   "outputs": [],
   "source": [
    "eurusd_data['ret'] = np.log(eurusd_data['CLOSE']/eurusd_data['CLOSE'].shift())\n",
    "eurusd_data['ret_sqd'] = eurusd_data['ret']**2"
   ]
  },
  {
   "cell_type": "code",
   "execution_count": 17,
   "id": "9530c5a9-8492-4bc9-b7d8-dc425158daef",
   "metadata": {},
   "outputs": [],
   "source": [
    "eurusd_data['date'] = pd.to_datetime(eurusd_data['DATE_TIME']).dt.date"
   ]
  },
  {
   "cell_type": "code",
   "execution_count": 18,
   "id": "6eeceafa-2bd8-43f3-b2bd-350305709379",
   "metadata": {},
   "outputs": [
    {
     "data": {
      "text/html": [
       "<div>\n",
       "<style scoped>\n",
       "    .dataframe tbody tr th:only-of-type {\n",
       "        vertical-align: middle;\n",
       "    }\n",
       "\n",
       "    .dataframe tbody tr th {\n",
       "        vertical-align: top;\n",
       "    }\n",
       "\n",
       "    .dataframe thead th {\n",
       "        text-align: right;\n",
       "    }\n",
       "</style>\n",
       "<table border=\"1\" class=\"dataframe\">\n",
       "  <thead>\n",
       "    <tr style=\"text-align: right;\">\n",
       "      <th></th>\n",
       "      <th>DATE_TIME</th>\n",
       "      <th>CLOSE</th>\n",
       "      <th>date</th>\n",
       "      <th>ret</th>\n",
       "      <th>ret_sqd</th>\n",
       "    </tr>\n",
       "  </thead>\n",
       "  <tbody>\n",
       "    <tr>\n",
       "      <th>0</th>\n",
       "      <td>2000.01.03 00:00:00</td>\n",
       "      <td>1.00770</td>\n",
       "      <td>2000-01-03</td>\n",
       "      <td>NaN</td>\n",
       "      <td>NaN</td>\n",
       "    </tr>\n",
       "    <tr>\n",
       "      <th>1</th>\n",
       "      <td>2000.01.03 00:15:00</td>\n",
       "      <td>1.00860</td>\n",
       "      <td>2000-01-03</td>\n",
       "      <td>0.000893</td>\n",
       "      <td>7.969568e-07</td>\n",
       "    </tr>\n",
       "    <tr>\n",
       "      <th>2</th>\n",
       "      <td>2000.01.03 00:30:00</td>\n",
       "      <td>1.00790</td>\n",
       "      <td>2000-01-03</td>\n",
       "      <td>-0.000694</td>\n",
       "      <td>4.820140e-07</td>\n",
       "    </tr>\n",
       "    <tr>\n",
       "      <th>3</th>\n",
       "      <td>2000.01.03 00:45:00</td>\n",
       "      <td>1.01280</td>\n",
       "      <td>2000-01-03</td>\n",
       "      <td>0.004850</td>\n",
       "      <td>2.352070e-05</td>\n",
       "    </tr>\n",
       "    <tr>\n",
       "      <th>4</th>\n",
       "      <td>2000.01.03 01:00:00</td>\n",
       "      <td>1.01220</td>\n",
       "      <td>2000-01-03</td>\n",
       "      <td>-0.000593</td>\n",
       "      <td>3.511660e-07</td>\n",
       "    </tr>\n",
       "    <tr>\n",
       "      <th>...</th>\n",
       "      <td>...</td>\n",
       "      <td>...</td>\n",
       "      <td>...</td>\n",
       "      <td>...</td>\n",
       "      <td>...</td>\n",
       "    </tr>\n",
       "    <tr>\n",
       "      <th>500746</th>\n",
       "      <td>2020.03.19 05:00:00</td>\n",
       "      <td>1.08895</td>\n",
       "      <td>2020-03-19</td>\n",
       "      <td>0.000854</td>\n",
       "      <td>7.299970e-07</td>\n",
       "    </tr>\n",
       "    <tr>\n",
       "      <th>500747</th>\n",
       "      <td>2020.03.19 05:15:00</td>\n",
       "      <td>1.08872</td>\n",
       "      <td>2020-03-19</td>\n",
       "      <td>-0.000211</td>\n",
       "      <td>4.462020e-08</td>\n",
       "    </tr>\n",
       "    <tr>\n",
       "      <th>500748</th>\n",
       "      <td>2020.03.19 05:30:00</td>\n",
       "      <td>1.09086</td>\n",
       "      <td>2020-03-19</td>\n",
       "      <td>0.001964</td>\n",
       "      <td>3.856046e-06</td>\n",
       "    </tr>\n",
       "    <tr>\n",
       "      <th>500749</th>\n",
       "      <td>2020.03.19 05:45:00</td>\n",
       "      <td>1.08970</td>\n",
       "      <td>2020-03-19</td>\n",
       "      <td>-0.001064</td>\n",
       "      <td>1.131983e-06</td>\n",
       "    </tr>\n",
       "    <tr>\n",
       "      <th>500750</th>\n",
       "      <td>2020.03.19 06:00:00</td>\n",
       "      <td>1.08965</td>\n",
       "      <td>2020-03-19</td>\n",
       "      <td>-0.000046</td>\n",
       "      <td>2.105455e-09</td>\n",
       "    </tr>\n",
       "  </tbody>\n",
       "</table>\n",
       "<p>500751 rows × 5 columns</p>\n",
       "</div>"
      ],
      "text/plain": [
       "                  DATE_TIME    CLOSE        date       ret       ret_sqd\n",
       "0       2000.01.03 00:00:00  1.00770  2000-01-03       NaN           NaN\n",
       "1       2000.01.03 00:15:00  1.00860  2000-01-03  0.000893  7.969568e-07\n",
       "2       2000.01.03 00:30:00  1.00790  2000-01-03 -0.000694  4.820140e-07\n",
       "3       2000.01.03 00:45:00  1.01280  2000-01-03  0.004850  2.352070e-05\n",
       "4       2000.01.03 01:00:00  1.01220  2000-01-03 -0.000593  3.511660e-07\n",
       "...                     ...      ...         ...       ...           ...\n",
       "500746  2020.03.19 05:00:00  1.08895  2020-03-19  0.000854  7.299970e-07\n",
       "500747  2020.03.19 05:15:00  1.08872  2020-03-19 -0.000211  4.462020e-08\n",
       "500748  2020.03.19 05:30:00  1.09086  2020-03-19  0.001964  3.856046e-06\n",
       "500749  2020.03.19 05:45:00  1.08970  2020-03-19 -0.001064  1.131983e-06\n",
       "500750  2020.03.19 06:00:00  1.08965  2020-03-19 -0.000046  2.105455e-09\n",
       "\n",
       "[500751 rows x 5 columns]"
      ]
     },
     "execution_count": 18,
     "metadata": {},
     "output_type": "execute_result"
    }
   ],
   "source": [
    "eurusd_data"
   ]
  },
  {
   "cell_type": "code",
   "execution_count": 19,
   "id": "c8e8982a-b73d-4f46-8937-eb87b3cf2474",
   "metadata": {},
   "outputs": [],
   "source": [
    "daily_vol_eurusd = eurusd_data[['date', 'ret_sqd']].groupby('date').sum().rename({'ret_sqd': 'vol'}, axis=1)"
   ]
  },
  {
   "cell_type": "code",
   "execution_count": 20,
   "id": "c252776b-7647-4871-bee0-3da79ec58259",
   "metadata": {},
   "outputs": [
    {
     "data": {
      "text/plain": [
       "<Axes: xlabel='date'>"
      ]
     },
     "execution_count": 20,
     "metadata": {},
     "output_type": "execute_result"
    },
    {
     "data": {
      "image/png": "[encoded data removed]",
      "text/plain": [
       "<Figure size 640x480 with 1 Axes>"
      ]
     },
     "metadata": {},
     "output_type": "display_data"
    }
   ],
   "source": [
    "daily_vol_eurusd.plot()"
   ]
  },
  {
   "cell_type": "code",
   "execution_count": 21,
   "id": "763fe06a-2bd2-45f7-aa4e-df92fa422fe2",
   "metadata": {},
   "outputs": [],
   "source": [
    "from helper_functions.afml_functions.afml_modelling_lib import encode_and_entropy"
   ]
  },
  {
   "cell_type": "code",
   "execution_count": 222,
   "id": "4b565004-29f7-4cdb-b82a-f863fccd32ec",
   "metadata": {},
   "outputs": [
    {
     "ename": "KeyError",
     "evalue": "\"['ret'] not in index\"",
     "output_type": "error",
     "traceback": [
      "\u001b[1;31m---------------------------------------------------------------------------\u001b[0m",
      "\u001b[1;31mKeyError\u001b[0m                                  Traceback (most recent call last)",
      "Cell \u001b[1;32mIn[222], line 1\u001b[0m\n\u001b[1;32m----> 1\u001b[0m daily_entropy_eurusd \u001b[38;5;241m=\u001b[39m \u001b[43meurusd_data\u001b[49m\u001b[43m[\u001b[49m\u001b[43m[\u001b[49m\u001b[38;5;124;43m'\u001b[39;49m\u001b[38;5;124;43mdate\u001b[39;49m\u001b[38;5;124;43m'\u001b[39;49m\u001b[43m,\u001b[49m\u001b[43m \u001b[49m\u001b[38;5;124;43m'\u001b[39;49m\u001b[38;5;124;43mret\u001b[39;49m\u001b[38;5;124;43m'\u001b[39;49m\u001b[43m]\u001b[49m\u001b[43m]\u001b[49m\u001b[38;5;241m.\u001b[39mgroupby(\u001b[38;5;124m'\u001b[39m\u001b[38;5;124mdate\u001b[39m\u001b[38;5;124m'\u001b[39m)\u001b[38;5;241m.\u001b[39mapply(\u001b[38;5;28;01mlambda\u001b[39;00m x: encode_and_entropy(x[\u001b[38;5;124m'\u001b[39m\u001b[38;5;124mret\u001b[39m\u001b[38;5;124m'\u001b[39m], \u001b[38;5;241m10\u001b[39m, \u001b[38;5;241m3\u001b[39m))\n",
      "File \u001b[1;32m~\\anaconda3\\envs\\home_research\\lib\\site-packages\\pandas\\core\\frame.py:4108\u001b[0m, in \u001b[0;36mDataFrame.__getitem__\u001b[1;34m(self, key)\u001b[0m\n\u001b[0;32m   4106\u001b[0m     \u001b[38;5;28;01mif\u001b[39;00m is_iterator(key):\n\u001b[0;32m   4107\u001b[0m         key \u001b[38;5;241m=\u001b[39m \u001b[38;5;28mlist\u001b[39m(key)\n\u001b[1;32m-> 4108\u001b[0m     indexer \u001b[38;5;241m=\u001b[39m \u001b[38;5;28;43mself\u001b[39;49m\u001b[38;5;241;43m.\u001b[39;49m\u001b[43mcolumns\u001b[49m\u001b[38;5;241;43m.\u001b[39;49m\u001b[43m_get_indexer_strict\u001b[49m\u001b[43m(\u001b[49m\u001b[43mkey\u001b[49m\u001b[43m,\u001b[49m\u001b[43m \u001b[49m\u001b[38;5;124;43m\"\u001b[39;49m\u001b[38;5;124;43mcolumns\u001b[39;49m\u001b[38;5;124;43m\"\u001b[39;49m\u001b[43m)\u001b[49m[\u001b[38;5;241m1\u001b[39m]\n\u001b[0;32m   4110\u001b[0m \u001b[38;5;66;03m# take() does not accept boolean indexers\u001b[39;00m\n\u001b[0;32m   4111\u001b[0m \u001b[38;5;28;01mif\u001b[39;00m \u001b[38;5;28mgetattr\u001b[39m(indexer, \u001b[38;5;124m\"\u001b[39m\u001b[38;5;124mdtype\u001b[39m\u001b[38;5;124m\"\u001b[39m, \u001b[38;5;28;01mNone\u001b[39;00m) \u001b[38;5;241m==\u001b[39m \u001b[38;5;28mbool\u001b[39m:\n",
      "File \u001b[1;32m~\\anaconda3\\envs\\home_research\\lib\\site-packages\\pandas\\core\\indexes\\base.py:6200\u001b[0m, in \u001b[0;36mIndex._get_indexer_strict\u001b[1;34m(self, key, axis_name)\u001b[0m\n\u001b[0;32m   6197\u001b[0m \u001b[38;5;28;01melse\u001b[39;00m:\n\u001b[0;32m   6198\u001b[0m     keyarr, indexer, new_indexer \u001b[38;5;241m=\u001b[39m \u001b[38;5;28mself\u001b[39m\u001b[38;5;241m.\u001b[39m_reindex_non_unique(keyarr)\n\u001b[1;32m-> 6200\u001b[0m \u001b[38;5;28;43mself\u001b[39;49m\u001b[38;5;241;43m.\u001b[39;49m\u001b[43m_raise_if_missing\u001b[49m\u001b[43m(\u001b[49m\u001b[43mkeyarr\u001b[49m\u001b[43m,\u001b[49m\u001b[43m \u001b[49m\u001b[43mindexer\u001b[49m\u001b[43m,\u001b[49m\u001b[43m \u001b[49m\u001b[43maxis_name\u001b[49m\u001b[43m)\u001b[49m\n\u001b[0;32m   6202\u001b[0m keyarr \u001b[38;5;241m=\u001b[39m \u001b[38;5;28mself\u001b[39m\u001b[38;5;241m.\u001b[39mtake(indexer)\n\u001b[0;32m   6203\u001b[0m \u001b[38;5;28;01mif\u001b[39;00m \u001b[38;5;28misinstance\u001b[39m(key, Index):\n\u001b[0;32m   6204\u001b[0m     \u001b[38;5;66;03m# GH 42790 - Preserve name from an Index\u001b[39;00m\n",
      "File \u001b[1;32m~\\anaconda3\\envs\\home_research\\lib\\site-packages\\pandas\\core\\indexes\\base.py:6252\u001b[0m, in \u001b[0;36mIndex._raise_if_missing\u001b[1;34m(self, key, indexer, axis_name)\u001b[0m\n\u001b[0;32m   6249\u001b[0m     \u001b[38;5;28;01mraise\u001b[39;00m \u001b[38;5;167;01mKeyError\u001b[39;00m(\u001b[38;5;124mf\u001b[39m\u001b[38;5;124m\"\u001b[39m\u001b[38;5;124mNone of [\u001b[39m\u001b[38;5;132;01m{\u001b[39;00mkey\u001b[38;5;132;01m}\u001b[39;00m\u001b[38;5;124m] are in the [\u001b[39m\u001b[38;5;132;01m{\u001b[39;00maxis_name\u001b[38;5;132;01m}\u001b[39;00m\u001b[38;5;124m]\u001b[39m\u001b[38;5;124m\"\u001b[39m)\n\u001b[0;32m   6251\u001b[0m not_found \u001b[38;5;241m=\u001b[39m \u001b[38;5;28mlist\u001b[39m(ensure_index(key)[missing_mask\u001b[38;5;241m.\u001b[39mnonzero()[\u001b[38;5;241m0\u001b[39m]]\u001b[38;5;241m.\u001b[39munique())\n\u001b[1;32m-> 6252\u001b[0m \u001b[38;5;28;01mraise\u001b[39;00m \u001b[38;5;167;01mKeyError\u001b[39;00m(\u001b[38;5;124mf\u001b[39m\u001b[38;5;124m\"\u001b[39m\u001b[38;5;132;01m{\u001b[39;00mnot_found\u001b[38;5;132;01m}\u001b[39;00m\u001b[38;5;124m not in index\u001b[39m\u001b[38;5;124m\"\u001b[39m)\n",
      "\u001b[1;31mKeyError\u001b[0m: \"['ret'] not in index\""
     ]
    }
   ],
   "source": [
    "daily_entropy_eurusd = eurusd_data[['date', 'ret']].groupby('date').apply(lambda x: encode_and_entropy(x['ret'], 10, 3)) #.rename({'ret': 'entropy'}, axis=1)"
   ]
  },
  {
   "cell_type": "code",
   "execution_count": 51,
   "id": "22170c0f-866a-42f4-bae9-836b6c2b49ae",
   "metadata": {},
   "outputs": [
    {
     "data": {
      "text/plain": [
       "<Axes: xlabel='date'>"
      ]
     },
     "execution_count": 51,
     "metadata": {},
     "output_type": "execute_result"
    },
    {
     "data": {
      "image/png": "[encoded data removed]",
      "text/plain": [
       "<Figure size 640x480 with 1 Axes>"
      ]
     },
     "metadata": {},
     "output_type": "display_data"
    }
   ],
   "source": [
    "daily_entropy_eurusd.plot()"
   ]
  },
  {
   "cell_type": "code",
   "execution_count": 22,
   "id": "3f5a55bb-22a5-458a-900b-a6aad3964c2e",
   "metadata": {},
   "outputs": [],
   "source": [
    "import statsmodels.api as sm"
   ]
  },
  {
   "cell_type": "code",
   "execution_count": 23,
   "id": "9970f01d-1c40-4f06-9893-5f8f5539d8b7",
   "metadata": {},
   "outputs": [],
   "source": [
    "eurusd_data = eurusd_data.drop('DATE_TIME', axis=1)"
   ]
  },
  {
   "cell_type": "code",
   "execution_count": 24,
   "id": "6573ee3d-1da5-4d17-95ec-82c22b67a275",
   "metadata": {},
   "outputs": [
    {
     "data": {
      "text/html": [
       "<div>\n",
       "<style scoped>\n",
       "    .dataframe tbody tr th:only-of-type {\n",
       "        vertical-align: middle;\n",
       "    }\n",
       "\n",
       "    .dataframe tbody tr th {\n",
       "        vertical-align: top;\n",
       "    }\n",
       "\n",
       "    .dataframe thead th {\n",
       "        text-align: right;\n",
       "    }\n",
       "</style>\n",
       "<table border=\"1\" class=\"dataframe\">\n",
       "  <thead>\n",
       "    <tr style=\"text-align: right;\">\n",
       "      <th></th>\n",
       "      <th>CLOSE</th>\n",
       "      <th>date</th>\n",
       "      <th>ret</th>\n",
       "      <th>ret_sqd</th>\n",
       "    </tr>\n",
       "  </thead>\n",
       "  <tbody>\n",
       "    <tr>\n",
       "      <th>0</th>\n",
       "      <td>1.00770</td>\n",
       "      <td>2000-01-03</td>\n",
       "      <td>NaN</td>\n",
       "      <td>NaN</td>\n",
       "    </tr>\n",
       "    <tr>\n",
       "      <th>1</th>\n",
       "      <td>1.00860</td>\n",
       "      <td>2000-01-03</td>\n",
       "      <td>0.000893</td>\n",
       "      <td>7.969568e-07</td>\n",
       "    </tr>\n",
       "    <tr>\n",
       "      <th>2</th>\n",
       "      <td>1.00790</td>\n",
       "      <td>2000-01-03</td>\n",
       "      <td>-0.000694</td>\n",
       "      <td>4.820140e-07</td>\n",
       "    </tr>\n",
       "    <tr>\n",
       "      <th>3</th>\n",
       "      <td>1.01280</td>\n",
       "      <td>2000-01-03</td>\n",
       "      <td>0.004850</td>\n",
       "      <td>2.352070e-05</td>\n",
       "    </tr>\n",
       "    <tr>\n",
       "      <th>4</th>\n",
       "      <td>1.01220</td>\n",
       "      <td>2000-01-03</td>\n",
       "      <td>-0.000593</td>\n",
       "      <td>3.511660e-07</td>\n",
       "    </tr>\n",
       "    <tr>\n",
       "      <th>...</th>\n",
       "      <td>...</td>\n",
       "      <td>...</td>\n",
       "      <td>...</td>\n",
       "      <td>...</td>\n",
       "    </tr>\n",
       "    <tr>\n",
       "      <th>500746</th>\n",
       "      <td>1.08895</td>\n",
       "      <td>2020-03-19</td>\n",
       "      <td>0.000854</td>\n",
       "      <td>7.299970e-07</td>\n",
       "    </tr>\n",
       "    <tr>\n",
       "      <th>500747</th>\n",
       "      <td>1.08872</td>\n",
       "      <td>2020-03-19</td>\n",
       "      <td>-0.000211</td>\n",
       "      <td>4.462020e-08</td>\n",
       "    </tr>\n",
       "    <tr>\n",
       "      <th>500748</th>\n",
       "      <td>1.09086</td>\n",
       "      <td>2020-03-19</td>\n",
       "      <td>0.001964</td>\n",
       "      <td>3.856046e-06</td>\n",
       "    </tr>\n",
       "    <tr>\n",
       "      <th>500749</th>\n",
       "      <td>1.08970</td>\n",
       "      <td>2020-03-19</td>\n",
       "      <td>-0.001064</td>\n",
       "      <td>1.131983e-06</td>\n",
       "    </tr>\n",
       "    <tr>\n",
       "      <th>500750</th>\n",
       "      <td>1.08965</td>\n",
       "      <td>2020-03-19</td>\n",
       "      <td>-0.000046</td>\n",
       "      <td>2.105455e-09</td>\n",
       "    </tr>\n",
       "  </tbody>\n",
       "</table>\n",
       "<p>500751 rows × 4 columns</p>\n",
       "</div>"
      ],
      "text/plain": [
       "          CLOSE        date       ret       ret_sqd\n",
       "0       1.00770  2000-01-03       NaN           NaN\n",
       "1       1.00860  2000-01-03  0.000893  7.969568e-07\n",
       "2       1.00790  2000-01-03 -0.000694  4.820140e-07\n",
       "3       1.01280  2000-01-03  0.004850  2.352070e-05\n",
       "4       1.01220  2000-01-03 -0.000593  3.511660e-07\n",
       "...         ...         ...       ...           ...\n",
       "500746  1.08895  2020-03-19  0.000854  7.299970e-07\n",
       "500747  1.08872  2020-03-19 -0.000211  4.462020e-08\n",
       "500748  1.09086  2020-03-19  0.001964  3.856046e-06\n",
       "500749  1.08970  2020-03-19 -0.001064  1.131983e-06\n",
       "500750  1.08965  2020-03-19 -0.000046  2.105455e-09\n",
       "\n",
       "[500751 rows x 4 columns]"
      ]
     },
     "execution_count": 24,
     "metadata": {},
     "output_type": "execute_result"
    }
   ],
   "source": [
    "eurusd_data"
   ]
  },
  {
   "cell_type": "code",
   "execution_count": 27,
   "id": "85c8be94-4da1-4a52-bc73-a2b09434c488",
   "metadata": {},
   "outputs": [
    {
     "name": "stderr",
     "output_type": "stream",
     "text": [
      "C:\\Users\\camer\\AppData\\Local\\Temp\\ipykernel_62276\\878831192.py:2: SettingWithCopyWarning: \n",
      "A value is trying to be set on a copy of a slice from a DataFrame.\n",
      "Try using .loc[row_indexer,col_indexer] = value instead\n",
      "\n",
      "See the caveats in the documentation: https://pandas.pydata.org/pandas-docs/stable/user_guide/indexing.html#returning-a-view-versus-a-copy\n",
      "  eurusd_data_daily['ret_bps'] = 1e4*np.log(eurusd_data_daily['CLOSE']/eurusd_data_daily['CLOSE'].shift())\n"
     ]
    },
    {
     "data": {
      "text/html": [
       "<div>\n",
       "<style scoped>\n",
       "    .dataframe tbody tr th:only-of-type {\n",
       "        vertical-align: middle;\n",
       "    }\n",
       "\n",
       "    .dataframe tbody tr th {\n",
       "        vertical-align: top;\n",
       "    }\n",
       "\n",
       "    .dataframe thead th {\n",
       "        text-align: right;\n",
       "    }\n",
       "</style>\n",
       "<table border=\"1\" class=\"dataframe\">\n",
       "  <thead>\n",
       "    <tr style=\"text-align: right;\">\n",
       "      <th></th>\n",
       "      <th>CLOSE</th>\n",
       "      <th>date</th>\n",
       "      <th>ret</th>\n",
       "      <th>ret_sqd</th>\n",
       "      <th>ret_bps</th>\n",
       "    </tr>\n",
       "  </thead>\n",
       "  <tbody>\n",
       "    <tr>\n",
       "      <th>95</th>\n",
       "      <td>1.02460</td>\n",
       "      <td>2000-01-03</td>\n",
       "      <td>0.000488</td>\n",
       "      <td>2.382557e-07</td>\n",
       "      <td>NaN</td>\n",
       "    </tr>\n",
       "    <tr>\n",
       "      <th>189</th>\n",
       "      <td>1.02920</td>\n",
       "      <td>2000-01-04</td>\n",
       "      <td>0.000194</td>\n",
       "      <td>3.776981e-08</td>\n",
       "      <td>44.795089</td>\n",
       "    </tr>\n",
       "    <tr>\n",
       "      <th>285</th>\n",
       "      <td>1.03260</td>\n",
       "      <td>2000-01-05</td>\n",
       "      <td>0.000291</td>\n",
       "      <td>8.443149e-08</td>\n",
       "      <td>32.980920</td>\n",
       "    </tr>\n",
       "    <tr>\n",
       "      <th>381</th>\n",
       "      <td>1.03300</td>\n",
       "      <td>2000-01-06</td>\n",
       "      <td>0.000000</td>\n",
       "      <td>0.000000e+00</td>\n",
       "      <td>3.872967</td>\n",
       "    </tr>\n",
       "    <tr>\n",
       "      <th>477</th>\n",
       "      <td>1.02980</td>\n",
       "      <td>2000-01-07</td>\n",
       "      <td>-0.000097</td>\n",
       "      <td>9.428705e-09</td>\n",
       "      <td>-31.025815</td>\n",
       "    </tr>\n",
       "    <tr>\n",
       "      <th>...</th>\n",
       "      <td>...</td>\n",
       "      <td>...</td>\n",
       "      <td>...</td>\n",
       "      <td>...</td>\n",
       "      <td>...</td>\n",
       "    </tr>\n",
       "    <tr>\n",
       "      <th>500437</th>\n",
       "      <td>1.11023</td>\n",
       "      <td>2020-03-13</td>\n",
       "      <td>-0.000513</td>\n",
       "      <td>2.634516e-07</td>\n",
       "      <td>-57.659306</td>\n",
       "    </tr>\n",
       "    <tr>\n",
       "      <th>500533</th>\n",
       "      <td>1.11775</td>\n",
       "      <td>2020-03-16</td>\n",
       "      <td>-0.000018</td>\n",
       "      <td>3.201569e-10</td>\n",
       "      <td>67.505351</td>\n",
       "    </tr>\n",
       "    <tr>\n",
       "      <th>500629</th>\n",
       "      <td>1.10055</td>\n",
       "      <td>2020-03-17</td>\n",
       "      <td>0.000100</td>\n",
       "      <td>9.991006e-09</td>\n",
       "      <td>-155.076813</td>\n",
       "    </tr>\n",
       "    <tr>\n",
       "      <th>500725</th>\n",
       "      <td>1.09114</td>\n",
       "      <td>2020-03-18</td>\n",
       "      <td>0.000110</td>\n",
       "      <td>1.209621e-08</td>\n",
       "      <td>-85.870336</td>\n",
       "    </tr>\n",
       "    <tr>\n",
       "      <th>500750</th>\n",
       "      <td>1.08965</td>\n",
       "      <td>2020-03-19</td>\n",
       "      <td>-0.000046</td>\n",
       "      <td>2.105455e-09</td>\n",
       "      <td>-13.664775</td>\n",
       "    </tr>\n",
       "  </tbody>\n",
       "</table>\n",
       "<p>5255 rows × 5 columns</p>\n",
       "</div>"
      ],
      "text/plain": [
       "          CLOSE        date       ret       ret_sqd     ret_bps\n",
       "95      1.02460  2000-01-03  0.000488  2.382557e-07         NaN\n",
       "189     1.02920  2000-01-04  0.000194  3.776981e-08   44.795089\n",
       "285     1.03260  2000-01-05  0.000291  8.443149e-08   32.980920\n",
       "381     1.03300  2000-01-06  0.000000  0.000000e+00    3.872967\n",
       "477     1.02980  2000-01-07 -0.000097  9.428705e-09  -31.025815\n",
       "...         ...         ...       ...           ...         ...\n",
       "500437  1.11023  2020-03-13 -0.000513  2.634516e-07  -57.659306\n",
       "500533  1.11775  2020-03-16 -0.000018  3.201569e-10   67.505351\n",
       "500629  1.10055  2020-03-17  0.000100  9.991006e-09 -155.076813\n",
       "500725  1.09114  2020-03-18  0.000110  1.209621e-08  -85.870336\n",
       "500750  1.08965  2020-03-19 -0.000046  2.105455e-09  -13.664775\n",
       "\n",
       "[5255 rows x 5 columns]"
      ]
     },
     "execution_count": 27,
     "metadata": {},
     "output_type": "execute_result"
    }
   ],
   "source": [
    "eurusd_data_daily = eurusd_data.groupby('date').tail(1)\n",
    "eurusd_data_daily['ret_bps'] = 1e4*np.log(eurusd_data_daily['CLOSE']/eurusd_data_daily['CLOSE'].shift())\n",
    "eurusd_data_daily"
   ]
  },
  {
   "cell_type": "markdown",
   "id": "6bfd06d5-42d0-4543-8ac4-a28760b880e5",
   "metadata": {},
   "source": [
    "#### this low frequency data kinda seems worse\n",
    "lets:\n",
    "- re-look at how to calculate entropy\n",
    "- re-look at how to calculate/estimate variance (just use r^2 or rolling value)\n",
    "- then lets re-look at the estimators"
   ]
  },
  {
   "cell_type": "code",
   "execution_count": 28,
   "id": "1fabb4d6-9fa4-40ee-8ac9-901946deee59",
   "metadata": {},
   "outputs": [],
   "source": [
    "from arch import arch_model"
   ]
  },
  {
   "cell_type": "code",
   "execution_count": 29,
   "id": "3ad2b05f-72a4-4fd2-a843-d0234e4e0720",
   "metadata": {},
   "outputs": [
    {
     "data": {
      "text/html": [
       "<div>\n",
       "<style scoped>\n",
       "    .dataframe tbody tr th:only-of-type {\n",
       "        vertical-align: middle;\n",
       "    }\n",
       "\n",
       "    .dataframe tbody tr th {\n",
       "        vertical-align: top;\n",
       "    }\n",
       "\n",
       "    .dataframe thead th {\n",
       "        text-align: right;\n",
       "    }\n",
       "</style>\n",
       "<table border=\"1\" class=\"dataframe\">\n",
       "  <thead>\n",
       "    <tr style=\"text-align: right;\">\n",
       "      <th></th>\n",
       "      <th>CLOSE</th>\n",
       "      <th>date</th>\n",
       "      <th>ret</th>\n",
       "      <th>ret_sqd</th>\n",
       "      <th>ret_bps</th>\n",
       "    </tr>\n",
       "  </thead>\n",
       "  <tbody>\n",
       "    <tr>\n",
       "      <th>95</th>\n",
       "      <td>1.02460</td>\n",
       "      <td>2000-01-03</td>\n",
       "      <td>0.000488</td>\n",
       "      <td>2.382557e-07</td>\n",
       "      <td>NaN</td>\n",
       "    </tr>\n",
       "    <tr>\n",
       "      <th>189</th>\n",
       "      <td>1.02920</td>\n",
       "      <td>2000-01-04</td>\n",
       "      <td>0.000194</td>\n",
       "      <td>3.776981e-08</td>\n",
       "      <td>44.795089</td>\n",
       "    </tr>\n",
       "    <tr>\n",
       "      <th>285</th>\n",
       "      <td>1.03260</td>\n",
       "      <td>2000-01-05</td>\n",
       "      <td>0.000291</td>\n",
       "      <td>8.443149e-08</td>\n",
       "      <td>32.980920</td>\n",
       "    </tr>\n",
       "    <tr>\n",
       "      <th>381</th>\n",
       "      <td>1.03300</td>\n",
       "      <td>2000-01-06</td>\n",
       "      <td>0.000000</td>\n",
       "      <td>0.000000e+00</td>\n",
       "      <td>3.872967</td>\n",
       "    </tr>\n",
       "    <tr>\n",
       "      <th>477</th>\n",
       "      <td>1.02980</td>\n",
       "      <td>2000-01-07</td>\n",
       "      <td>-0.000097</td>\n",
       "      <td>9.428705e-09</td>\n",
       "      <td>-31.025815</td>\n",
       "    </tr>\n",
       "    <tr>\n",
       "      <th>...</th>\n",
       "      <td>...</td>\n",
       "      <td>...</td>\n",
       "      <td>...</td>\n",
       "      <td>...</td>\n",
       "      <td>...</td>\n",
       "    </tr>\n",
       "    <tr>\n",
       "      <th>500437</th>\n",
       "      <td>1.11023</td>\n",
       "      <td>2020-03-13</td>\n",
       "      <td>-0.000513</td>\n",
       "      <td>2.634516e-07</td>\n",
       "      <td>-57.659306</td>\n",
       "    </tr>\n",
       "    <tr>\n",
       "      <th>500533</th>\n",
       "      <td>1.11775</td>\n",
       "      <td>2020-03-16</td>\n",
       "      <td>-0.000018</td>\n",
       "      <td>3.201569e-10</td>\n",
       "      <td>67.505351</td>\n",
       "    </tr>\n",
       "    <tr>\n",
       "      <th>500629</th>\n",
       "      <td>1.10055</td>\n",
       "      <td>2020-03-17</td>\n",
       "      <td>0.000100</td>\n",
       "      <td>9.991006e-09</td>\n",
       "      <td>-155.076813</td>\n",
       "    </tr>\n",
       "    <tr>\n",
       "      <th>500725</th>\n",
       "      <td>1.09114</td>\n",
       "      <td>2020-03-18</td>\n",
       "      <td>0.000110</td>\n",
       "      <td>1.209621e-08</td>\n",
       "      <td>-85.870336</td>\n",
       "    </tr>\n",
       "    <tr>\n",
       "      <th>500750</th>\n",
       "      <td>1.08965</td>\n",
       "      <td>2020-03-19</td>\n",
       "      <td>-0.000046</td>\n",
       "      <td>2.105455e-09</td>\n",
       "      <td>-13.664775</td>\n",
       "    </tr>\n",
       "  </tbody>\n",
       "</table>\n",
       "<p>5255 rows × 5 columns</p>\n",
       "</div>"
      ],
      "text/plain": [
       "          CLOSE        date       ret       ret_sqd     ret_bps\n",
       "95      1.02460  2000-01-03  0.000488  2.382557e-07         NaN\n",
       "189     1.02920  2000-01-04  0.000194  3.776981e-08   44.795089\n",
       "285     1.03260  2000-01-05  0.000291  8.443149e-08   32.980920\n",
       "381     1.03300  2000-01-06  0.000000  0.000000e+00    3.872967\n",
       "477     1.02980  2000-01-07 -0.000097  9.428705e-09  -31.025815\n",
       "...         ...         ...       ...           ...         ...\n",
       "500437  1.11023  2020-03-13 -0.000513  2.634516e-07  -57.659306\n",
       "500533  1.11775  2020-03-16 -0.000018  3.201569e-10   67.505351\n",
       "500629  1.10055  2020-03-17  0.000100  9.991006e-09 -155.076813\n",
       "500725  1.09114  2020-03-18  0.000110  1.209621e-08  -85.870336\n",
       "500750  1.08965  2020-03-19 -0.000046  2.105455e-09  -13.664775\n",
       "\n",
       "[5255 rows x 5 columns]"
      ]
     },
     "execution_count": 29,
     "metadata": {},
     "output_type": "execute_result"
    }
   ],
   "source": [
    "eurusd_data_daily"
   ]
  },
  {
   "cell_type": "code",
   "execution_count": 252,
   "id": "967071bf-8c3b-4e14-b198-922bdc9bb015",
   "metadata": {},
   "outputs": [],
   "source": [
    "eurusd_ret = eurusd_data_daily['ret_bps'].dropna()\n",
    "eurusd_ret.index = pd.to_datetime(eurusd_ret.index)"
   ]
  },
  {
   "cell_type": "code",
   "execution_count": 32,
   "id": "05a783d0-6aa1-4014-b453-ccf17a37fc7a",
   "metadata": {},
   "outputs": [
    {
     "data": {
      "image/png": "[encoded data removed]",
      "text/plain": [
       "<Figure size 640x480 with 1 Axes>"
      ]
     },
     "execution_count": 32,
     "metadata": {},
     "output_type": "execute_result"
    },
    {
     "data": {
      "image/png": "[encoded data removed]",
      "text/plain": [
       "<Figure size 640x480 with 1 Axes>"
      ]
     },
     "metadata": {},
     "output_type": "display_data"
    }
   ],
   "source": [
    "from statsmodels.tsa.stattools import pacf\n",
    "from statsmodels.graphics.tsaplots import plot_pacf\n",
    "\n",
    "plot_pacf(future_vol)"
   ]
  },
  {
   "cell_type": "code",
   "execution_count": 64,
   "id": "6b6ae96e-6c70-45b8-8661-91737f2d6ac3",
   "metadata": {},
   "outputs": [
    {
     "ename": "ModuleNotFoundError",
     "evalue": "No module named 'statsmodels.api.tsa'; 'statsmodels.api' is not a package",
     "output_type": "error",
     "traceback": [
      "\u001b[1;31m---------------------------------------------------------------------------\u001b[0m",
      "\u001b[1;31mModuleNotFoundError\u001b[0m                       Traceback (most recent call last)",
      "Cell \u001b[1;32mIn[64], line 2\u001b[0m\n\u001b[0;32m      1\u001b[0m \u001b[38;5;28;01mfrom\u001b[39;00m \u001b[38;5;21;01mstatsmodels\u001b[39;00m\u001b[38;5;21;01m.\u001b[39;00m\u001b[38;5;21;01mtsa\u001b[39;00m\u001b[38;5;21;01m.\u001b[39;00m\u001b[38;5;21;01marima\u001b[39;00m\u001b[38;5;21;01m.\u001b[39;00m\u001b[38;5;21;01mmodel\u001b[39;00m \u001b[38;5;28;01mimport\u001b[39;00m ARIMA\n\u001b[1;32m----> 2\u001b[0m \u001b[38;5;28;01mfrom\u001b[39;00m \u001b[38;5;21;01mstatsmodels\u001b[39;00m\u001b[38;5;21;01m.\u001b[39;00m\u001b[38;5;21;01mapi\u001b[39;00m\u001b[38;5;21;01m.\u001b[39;00m\u001b[38;5;21;01mtsa\u001b[39;00m\u001b[38;5;21;01m.\u001b[39;00m\u001b[38;5;21;01mstatespace\u001b[39;00m \u001b[38;5;28;01mimport\u001b[39;00m SARIMAX\n\u001b[0;32m      3\u001b[0m \u001b[38;5;28;01mfrom\u001b[39;00m \u001b[38;5;21;01mstatsmodels\u001b[39;00m\u001b[38;5;21;01m.\u001b[39;00m\u001b[38;5;21;01mtsa\u001b[39;00m\u001b[38;5;21;01m.\u001b[39;00m\u001b[38;5;21;01mstattools\u001b[39;00m \u001b[38;5;28;01mimport\u001b[39;00m adfuller\n",
      "\u001b[1;31mModuleNotFoundError\u001b[0m: No module named 'statsmodels.api.tsa'; 'statsmodels.api' is not a package"
     ]
    }
   ],
   "source": [
    "from statsmodels.tsa.arima.model import ARIMA\n",
    "from statsmodels.tsa.stattools import adfuller"
   ]
  },
  {
   "cell_type": "markdown",
   "id": "c5a82ee7-e629-4081-b274-5511214b8d0b",
   "metadata": {},
   "source": [
    "- set a benchmark based omn AR model\n",
    "- find somehighe frequency dfaat\n",
    "- regress with entropy\n",
    "- midas with entropy - check residuals etc in ols and midas\n",
    "- nonlinar models"
   ]
  },
  {
   "cell_type": "code",
   "execution_count": 35,
   "id": "ede207fb-11af-4fe3-8b4e-c146c0f46600",
   "metadata": {},
   "outputs": [
    {
     "data": {
      "text/plain": [
       "(-4.714719213328281,\n",
       " 7.895512875792945e-05,\n",
       " 31,\n",
       " 5222,\n",
       " {'1%': -3.431602875792823,\n",
       "  '5%': -2.862093640802141,\n",
       "  '10%': -2.567064702779875},\n",
       " -93411.96223789119)"
      ]
     },
     "execution_count": 35,
     "metadata": {},
     "output_type": "execute_result"
    }
   ],
   "source": [
    "adfuller(future_vol)"
   ]
  },
  {
   "cell_type": "markdown",
   "id": "b5fff8f7-8f6a-4014-9e4e-3f8589a434c1",
   "metadata": {},
   "source": [
    "Indicates TS is at least stationary"
   ]
  },
  {
   "cell_type": "code",
   "execution_count": 36,
   "id": "95fbb0a1-6ac4-43ca-8c1e-373e28a26d9c",
   "metadata": {},
   "outputs": [
    {
     "data": {
      "text/plain": [
       "array([[<Axes: title={'center': 'vol'}>]], dtype=object)"
      ]
     },
     "execution_count": 36,
     "metadata": {},
     "output_type": "execute_result"
    },
    {
     "data": {
      "image/png": "[encoded data removed]",
      "text/plain": [
       "<Figure size 640x480 with 1 Axes>"
      ]
     },
     "metadata": {},
     "output_type": "display_data"
    }
   ],
   "source": [
    "future_vol.hist(bins=100)"
   ]
  },
  {
   "cell_type": "markdown",
   "id": "3aca18d2-d977-4b13-8912-7d7acebe5596",
   "metadata": {},
   "source": [
    "Distribution is skewed (right skewed) so extreme positive events are likely - lets do a long transform on this"
   ]
  },
  {
   "cell_type": "code",
   "execution_count": 68,
   "id": "b9b3c24b-e196-46c8-a77b-b00f675fc86e",
   "metadata": {},
   "outputs": [],
   "source": [
    "log_future_vol = pd.DataFrame(np.log(future_vol))"
   ]
  },
  {
   "cell_type": "markdown",
   "id": "bc079262-8b40-4e1a-8d05-f6c21e0c31be",
   "metadata": {},
   "source": [
    "Much better"
   ]
  },
  {
   "cell_type": "markdown",
   "id": "1dd2df9a-d021-43cf-b4cb-2a8a69134774",
   "metadata": {},
   "source": [
    "## Benchmark model (ARMA)"
   ]
  },
  {
   "cell_type": "code",
   "execution_count": 78,
   "id": "e7ee496f-1857-40eb-8423-2025b3747459",
   "metadata": {},
   "outputs": [
    {
     "name": "stderr",
     "output_type": "stream",
     "text": [
      "C:\\Users\\camer\\anaconda3\\envs\\home_research\\lib\\site-packages\\statsmodels\\tsa\\base\\tsa_model.py:473: ValueWarning: A date index has been provided, but it has no associated frequency information and so will be ignored when e.g. forecasting.\n",
      "  self._init_dates(dates, freq)\n",
      "C:\\Users\\camer\\anaconda3\\envs\\home_research\\lib\\site-packages\\statsmodels\\tsa\\base\\tsa_model.py:473: ValueWarning: A date index has been provided, but it has no associated frequency information and so will be ignored when e.g. forecasting.\n",
      "  self._init_dates(dates, freq)\n",
      "C:\\Users\\camer\\anaconda3\\envs\\home_research\\lib\\site-packages\\statsmodels\\tsa\\base\\tsa_model.py:473: ValueWarning: A date index has been provided, but it has no associated frequency information and so will be ignored when e.g. forecasting.\n",
      "  self._init_dates(dates, freq)\n"
     ]
    },
    {
     "data": {
      "text/html": [
       "<table class=\"simpletable\">\n",
       "<caption>SARIMAX Results</caption>\n",
       "<tr>\n",
       "  <th>Dep. Variable:</th>          <td>vol</td>       <th>  No. Observations:  </th>   <td>5254</td>   \n",
       "</tr>\n",
       "<tr>\n",
       "  <th>Model:</th>            <td>ARIMA(2, 0, 1)</td>  <th>  Log Likelihood     </th> <td>-3729.314</td>\n",
       "</tr>\n",
       "<tr>\n",
       "  <th>Date:</th>            <td>Sun, 24 Nov 2024</td> <th>  AIC                </th> <td>7468.629</td> \n",
       "</tr>\n",
       "<tr>\n",
       "  <th>Time:</th>                <td>23:14:30</td>     <th>  BIC                </th> <td>7501.462</td> \n",
       "</tr>\n",
       "<tr>\n",
       "  <th>Sample:</th>                  <td>0</td>        <th>  HQIC               </th> <td>7480.107</td> \n",
       "</tr>\n",
       "<tr>\n",
       "  <th></th>                      <td> - 5254</td>     <th>                     </th>     <td> </td>    \n",
       "</tr>\n",
       "<tr>\n",
       "  <th>Covariance Type:</th>        <td>opg</td>       <th>                     </th>     <td> </td>    \n",
       "</tr>\n",
       "</table>\n",
       "<table class=\"simpletable\">\n",
       "<tr>\n",
       "     <td></td>       <th>coef</th>     <th>std err</th>      <th>z</th>      <th>P>|z|</th>  <th>[0.025</th>    <th>0.975]</th>  \n",
       "</tr>\n",
       "<tr>\n",
       "  <th>const</th>  <td>  -10.4529</td> <td>    0.147</td> <td>  -71.259</td> <td> 0.000</td> <td>  -10.740</td> <td>  -10.165</td>\n",
       "</tr>\n",
       "<tr>\n",
       "  <th>ar.L1</th>  <td>    1.1207</td> <td>    0.016</td> <td>   69.423</td> <td> 0.000</td> <td>    1.089</td> <td>    1.152</td>\n",
       "</tr>\n",
       "<tr>\n",
       "  <th>ar.L2</th>  <td>   -0.1277</td> <td>    0.016</td> <td>   -8.129</td> <td> 0.000</td> <td>   -0.158</td> <td>   -0.097</td>\n",
       "</tr>\n",
       "<tr>\n",
       "  <th>ma.L1</th>  <td>   -0.8508</td> <td>    0.009</td> <td>  -93.435</td> <td> 0.000</td> <td>   -0.869</td> <td>   -0.833</td>\n",
       "</tr>\n",
       "<tr>\n",
       "  <th>sigma2</th> <td>    0.2420</td> <td>    0.003</td> <td>   79.251</td> <td> 0.000</td> <td>    0.236</td> <td>    0.248</td>\n",
       "</tr>\n",
       "</table>\n",
       "<table class=\"simpletable\">\n",
       "<tr>\n",
       "  <th>Ljung-Box (L1) (Q):</th>     <td>0.01</td> <th>  Jarque-Bera (JB):  </th> <td>2199.99</td>\n",
       "</tr>\n",
       "<tr>\n",
       "  <th>Prob(Q):</th>                <td>0.92</td> <th>  Prob(JB):          </th>  <td>0.00</td>  \n",
       "</tr>\n",
       "<tr>\n",
       "  <th>Heteroskedasticity (H):</th> <td>1.55</td> <th>  Skew:              </th>  <td>0.47</td>  \n",
       "</tr>\n",
       "<tr>\n",
       "  <th>Prob(H) (two-sided):</th>    <td>0.00</td> <th>  Kurtosis:          </th>  <td>6.03</td>  \n",
       "</tr>\n",
       "</table><br/><br/>Warnings:<br/>[1] Covariance matrix calculated using the outer product of gradients (complex-step)."
      ],
      "text/latex": [
       "\\begin{center}\n",
       "\\begin{tabular}{lclc}\n",
       "\\toprule\n",
       "\\textbf{Dep. Variable:}          &       vol        & \\textbf{  No. Observations:  } &    5254     \\\\\n",
       "\\textbf{Model:}                  &  ARIMA(2, 0, 1)  & \\textbf{  Log Likelihood     } & -3729.314   \\\\\n",
       "\\textbf{Date:}                   & Sun, 24 Nov 2024 & \\textbf{  AIC                } &  7468.629   \\\\\n",
       "\\textbf{Time:}                   &     23:14:30     & \\textbf{  BIC                } &  7501.462   \\\\\n",
       "\\textbf{Sample:}                 &        0         & \\textbf{  HQIC               } &  7480.107   \\\\\n",
       "\\textbf{}                        &      - 5254      & \\textbf{                     } &             \\\\\n",
       "\\textbf{Covariance Type:}        &       opg        & \\textbf{                     } &             \\\\\n",
       "\\bottomrule\n",
       "\\end{tabular}\n",
       "\\begin{tabular}{lcccccc}\n",
       "                & \\textbf{coef} & \\textbf{std err} & \\textbf{z} & \\textbf{P$> |$z$|$} & \\textbf{[0.025} & \\textbf{0.975]}  \\\\\n",
       "\\midrule\n",
       "\\textbf{const}  &     -10.4529  &        0.147     &   -71.259  &         0.000        &      -10.740    &      -10.165     \\\\\n",
       "\\textbf{ar.L1}  &       1.1207  &        0.016     &    69.423  &         0.000        &        1.089    &        1.152     \\\\\n",
       "\\textbf{ar.L2}  &      -0.1277  &        0.016     &    -8.129  &         0.000        &       -0.158    &       -0.097     \\\\\n",
       "\\textbf{ma.L1}  &      -0.8508  &        0.009     &   -93.435  &         0.000        &       -0.869    &       -0.833     \\\\\n",
       "\\textbf{sigma2} &       0.2420  &        0.003     &    79.251  &         0.000        &        0.236    &        0.248     \\\\\n",
       "\\bottomrule\n",
       "\\end{tabular}\n",
       "\\begin{tabular}{lclc}\n",
       "\\textbf{Ljung-Box (L1) (Q):}     & 0.01 & \\textbf{  Jarque-Bera (JB):  } & 2199.99  \\\\\n",
       "\\textbf{Prob(Q):}                & 0.92 & \\textbf{  Prob(JB):          } &   0.00   \\\\\n",
       "\\textbf{Heteroskedasticity (H):} & 1.55 & \\textbf{  Skew:              } &   0.47   \\\\\n",
       "\\textbf{Prob(H) (two-sided):}    & 0.00 & \\textbf{  Kurtosis:          } &   6.03   \\\\\n",
       "\\bottomrule\n",
       "\\end{tabular}\n",
       "%\\caption{SARIMAX Results}\n",
       "\\end{center}\n",
       "\n",
       "Warnings: \\newline\n",
       " [1] Covariance matrix calculated using the outer product of gradients (complex-step)."
      ],
      "text/plain": [
       "<class 'statsmodels.iolib.summary.Summary'>\n",
       "\"\"\"\n",
       "                               SARIMAX Results                                \n",
       "==============================================================================\n",
       "Dep. Variable:                    vol   No. Observations:                 5254\n",
       "Model:                 ARIMA(2, 0, 1)   Log Likelihood               -3729.314\n",
       "Date:                Sun, 24 Nov 2024   AIC                           7468.629\n",
       "Time:                        23:14:30   BIC                           7501.462\n",
       "Sample:                             0   HQIC                          7480.107\n",
       "                               - 5254                                         \n",
       "Covariance Type:                  opg                                         \n",
       "==============================================================================\n",
       "                 coef    std err          z      P>|z|      [0.025      0.975]\n",
       "------------------------------------------------------------------------------\n",
       "const        -10.4529      0.147    -71.259      0.000     -10.740     -10.165\n",
       "ar.L1          1.1207      0.016     69.423      0.000       1.089       1.152\n",
       "ar.L2         -0.1277      0.016     -8.129      0.000      -0.158      -0.097\n",
       "ma.L1         -0.8508      0.009    -93.435      0.000      -0.869      -0.833\n",
       "sigma2         0.2420      0.003     79.251      0.000       0.236       0.248\n",
       "===================================================================================\n",
       "Ljung-Box (L1) (Q):                   0.01   Jarque-Bera (JB):              2199.99\n",
       "Prob(Q):                              0.92   Prob(JB):                         0.00\n",
       "Heteroskedasticity (H):               1.55   Skew:                             0.47\n",
       "Prob(H) (two-sided):                  0.00   Kurtosis:                         6.03\n",
       "===================================================================================\n",
       "\n",
       "Warnings:\n",
       "[1] Covariance matrix calculated using the outer product of gradients (complex-step).\n",
       "\"\"\""
      ]
     },
     "execution_count": 78,
     "metadata": {},
     "output_type": "execute_result"
    }
   ],
   "source": [
    "arma_model1 = ARIMA(log_future_vol, order=(2, 0, 1))\n",
    "res1 = arma_model1.fit()\n",
    "res1.summary()"
   ]
  },
  {
   "cell_type": "code",
   "execution_count": 39,
   "id": "4321e59f-7a4c-4b1a-a05e-79bcd39ab41f",
   "metadata": {},
   "outputs": [
    {
     "name": "stderr",
     "output_type": "stream",
     "text": [
      "C:\\Users\\camer\\anaconda3\\envs\\home_research\\lib\\site-packages\\statsmodels\\tsa\\base\\tsa_model.py:473: ValueWarning: A date index has been provided, but it has no associated frequency information and so will be ignored when e.g. forecasting.\n",
      "  self._init_dates(dates, freq)\n",
      "C:\\Users\\camer\\anaconda3\\envs\\home_research\\lib\\site-packages\\statsmodels\\tsa\\base\\tsa_model.py:473: ValueWarning: A date index has been provided, but it has no associated frequency information and so will be ignored when e.g. forecasting.\n",
      "  self._init_dates(dates, freq)\n",
      "C:\\Users\\camer\\anaconda3\\envs\\home_research\\lib\\site-packages\\statsmodels\\tsa\\base\\tsa_model.py:473: ValueWarning: A date index has been provided, but it has no associated frequency information and so will be ignored when e.g. forecasting.\n",
      "  self._init_dates(dates, freq)\n"
     ]
    },
    {
     "data": {
      "text/html": [
       "<table class=\"simpletable\">\n",
       "<caption>SARIMAX Results</caption>\n",
       "<tr>\n",
       "  <th>Dep. Variable:</th>          <td>vol</td>       <th>  No. Observations:  </th>   <td>5254</td>   \n",
       "</tr>\n",
       "<tr>\n",
       "  <th>Model:</th>            <td>ARIMA(1, 0, 1)</td>  <th>  Log Likelihood     </th> <td>-3754.254</td>\n",
       "</tr>\n",
       "<tr>\n",
       "  <th>Date:</th>            <td>Sun, 24 Nov 2024</td> <th>  AIC                </th> <td>7516.509</td> \n",
       "</tr>\n",
       "<tr>\n",
       "  <th>Time:</th>                <td>11:52:20</td>     <th>  BIC                </th> <td>7542.776</td> \n",
       "</tr>\n",
       "<tr>\n",
       "  <th>Sample:</th>                  <td>0</td>        <th>  HQIC               </th> <td>7525.692</td> \n",
       "</tr>\n",
       "<tr>\n",
       "  <th></th>                      <td> - 5254</td>     <th>                     </th>     <td> </td>    \n",
       "</tr>\n",
       "<tr>\n",
       "  <th>Covariance Type:</th>        <td>opg</td>       <th>                     </th>     <td> </td>    \n",
       "</tr>\n",
       "</table>\n",
       "<table class=\"simpletable\">\n",
       "<tr>\n",
       "     <td></td>       <th>coef</th>     <th>std err</th>      <th>z</th>      <th>P>|z|</th>  <th>[0.025</th>    <th>0.975]</th>  \n",
       "</tr>\n",
       "<tr>\n",
       "  <th>const</th>  <td>  -10.4587</td> <td>    0.124</td> <td>  -84.453</td> <td> 0.000</td> <td>  -10.701</td> <td>  -10.216</td>\n",
       "</tr>\n",
       "<tr>\n",
       "  <th>ar.L1</th>  <td>    0.9882</td> <td>    0.002</td> <td>  430.896</td> <td> 0.000</td> <td>    0.984</td> <td>    0.993</td>\n",
       "</tr>\n",
       "<tr>\n",
       "  <th>ma.L1</th>  <td>   -0.7902</td> <td>    0.009</td> <td>  -92.388</td> <td> 0.000</td> <td>   -0.807</td> <td>   -0.773</td>\n",
       "</tr>\n",
       "<tr>\n",
       "  <th>sigma2</th> <td>    0.2444</td> <td>    0.003</td> <td>   78.597</td> <td> 0.000</td> <td>    0.238</td> <td>    0.250</td>\n",
       "</tr>\n",
       "</table>\n",
       "<table class=\"simpletable\">\n",
       "<tr>\n",
       "  <th>Ljung-Box (L1) (Q):</th>     <td>27.34</td> <th>  Jarque-Bera (JB):  </th> <td>2091.23</td>\n",
       "</tr>\n",
       "<tr>\n",
       "  <th>Prob(Q):</th>                <td>0.00</td>  <th>  Prob(JB):          </th>  <td>0.00</td>  \n",
       "</tr>\n",
       "<tr>\n",
       "  <th>Heteroskedasticity (H):</th> <td>1.56</td>  <th>  Skew:              </th>  <td>0.46</td>  \n",
       "</tr>\n",
       "<tr>\n",
       "  <th>Prob(H) (two-sided):</th>    <td>0.00</td>  <th>  Kurtosis:          </th>  <td>5.95</td>  \n",
       "</tr>\n",
       "</table><br/><br/>Warnings:<br/>[1] Covariance matrix calculated using the outer product of gradients (complex-step)."
      ],
      "text/latex": [
       "\\begin{center}\n",
       "\\begin{tabular}{lclc}\n",
       "\\toprule\n",
       "\\textbf{Dep. Variable:}          &       vol        & \\textbf{  No. Observations:  } &    5254     \\\\\n",
       "\\textbf{Model:}                  &  ARIMA(1, 0, 1)  & \\textbf{  Log Likelihood     } & -3754.254   \\\\\n",
       "\\textbf{Date:}                   & Sun, 24 Nov 2024 & \\textbf{  AIC                } &  7516.509   \\\\\n",
       "\\textbf{Time:}                   &     11:52:20     & \\textbf{  BIC                } &  7542.776   \\\\\n",
       "\\textbf{Sample:}                 &        0         & \\textbf{  HQIC               } &  7525.692   \\\\\n",
       "\\textbf{}                        &      - 5254      & \\textbf{                     } &             \\\\\n",
       "\\textbf{Covariance Type:}        &       opg        & \\textbf{                     } &             \\\\\n",
       "\\bottomrule\n",
       "\\end{tabular}\n",
       "\\begin{tabular}{lcccccc}\n",
       "                & \\textbf{coef} & \\textbf{std err} & \\textbf{z} & \\textbf{P$> |$z$|$} & \\textbf{[0.025} & \\textbf{0.975]}  \\\\\n",
       "\\midrule\n",
       "\\textbf{const}  &     -10.4587  &        0.124     &   -84.453  &         0.000        &      -10.701    &      -10.216     \\\\\n",
       "\\textbf{ar.L1}  &       0.9882  &        0.002     &   430.896  &         0.000        &        0.984    &        0.993     \\\\\n",
       "\\textbf{ma.L1}  &      -0.7902  &        0.009     &   -92.388  &         0.000        &       -0.807    &       -0.773     \\\\\n",
       "\\textbf{sigma2} &       0.2444  &        0.003     &    78.597  &         0.000        &        0.238    &        0.250     \\\\\n",
       "\\bottomrule\n",
       "\\end{tabular}\n",
       "\\begin{tabular}{lclc}\n",
       "\\textbf{Ljung-Box (L1) (Q):}     & 27.34 & \\textbf{  Jarque-Bera (JB):  } & 2091.23  \\\\\n",
       "\\textbf{Prob(Q):}                &  0.00 & \\textbf{  Prob(JB):          } &   0.00   \\\\\n",
       "\\textbf{Heteroskedasticity (H):} &  1.56 & \\textbf{  Skew:              } &   0.46   \\\\\n",
       "\\textbf{Prob(H) (two-sided):}    &  0.00 & \\textbf{  Kurtosis:          } &   5.95   \\\\\n",
       "\\bottomrule\n",
       "\\end{tabular}\n",
       "%\\caption{SARIMAX Results}\n",
       "\\end{center}\n",
       "\n",
       "Warnings: \\newline\n",
       " [1] Covariance matrix calculated using the outer product of gradients (complex-step)."
      ],
      "text/plain": [
       "<class 'statsmodels.iolib.summary.Summary'>\n",
       "\"\"\"\n",
       "                               SARIMAX Results                                \n",
       "==============================================================================\n",
       "Dep. Variable:                    vol   No. Observations:                 5254\n",
       "Model:                 ARIMA(1, 0, 1)   Log Likelihood               -3754.254\n",
       "Date:                Sun, 24 Nov 2024   AIC                           7516.509\n",
       "Time:                        11:52:20   BIC                           7542.776\n",
       "Sample:                             0   HQIC                          7525.692\n",
       "                               - 5254                                         \n",
       "Covariance Type:                  opg                                         \n",
       "==============================================================================\n",
       "                 coef    std err          z      P>|z|      [0.025      0.975]\n",
       "------------------------------------------------------------------------------\n",
       "const        -10.4587      0.124    -84.453      0.000     -10.701     -10.216\n",
       "ar.L1          0.9882      0.002    430.896      0.000       0.984       0.993\n",
       "ma.L1         -0.7902      0.009    -92.388      0.000      -0.807      -0.773\n",
       "sigma2         0.2444      0.003     78.597      0.000       0.238       0.250\n",
       "===================================================================================\n",
       "Ljung-Box (L1) (Q):                  27.34   Jarque-Bera (JB):              2091.23\n",
       "Prob(Q):                              0.00   Prob(JB):                         0.00\n",
       "Heteroskedasticity (H):               1.56   Skew:                             0.46\n",
       "Prob(H) (two-sided):                  0.00   Kurtosis:                         5.95\n",
       "===================================================================================\n",
       "\n",
       "Warnings:\n",
       "[1] Covariance matrix calculated using the outer product of gradients (complex-step).\n",
       "\"\"\""
      ]
     },
     "execution_count": 39,
     "metadata": {},
     "output_type": "execute_result"
    }
   ],
   "source": [
    "arma_model2 = ARIMA(log_future_vol, order=(1, 0, 1))\n",
    "res2 = arma_model2.fit()\n",
    "res2.summary()"
   ]
  },
  {
   "cell_type": "code",
   "execution_count": 48,
   "id": "b8eff447-de7d-47c6-8ec4-f7850398b5d1",
   "metadata": {},
   "outputs": [
    {
     "name": "stderr",
     "output_type": "stream",
     "text": [
      "C:\\Users\\camer\\anaconda3\\envs\\home_research\\lib\\site-packages\\statsmodels\\tsa\\base\\tsa_model.py:836: ValueWarning: No supported index is available. Prediction results will be given with an integer index beginning at `start`.\n",
      "  return get_prediction_index(\n"
     ]
    },
    {
     "data": {
      "text/plain": [
       "5254   -9.521388\n",
       "dtype: float64"
      ]
     },
     "execution_count": 48,
     "metadata": {},
     "output_type": "execute_result"
    }
   ],
   "source": [
    "res2.forecast()"
   ]
  },
  {
   "cell_type": "code",
   "execution_count": 40,
   "id": "140c50a1-1965-426d-a83b-e84481523944",
   "metadata": {},
   "outputs": [
    {
     "data": {
      "text/html": [
       "<div>\n",
       "<style scoped>\n",
       "    .dataframe tbody tr th:only-of-type {\n",
       "        vertical-align: middle;\n",
       "    }\n",
       "\n",
       "    .dataframe tbody tr th {\n",
       "        vertical-align: top;\n",
       "    }\n",
       "\n",
       "    .dataframe thead th {\n",
       "        text-align: right;\n",
       "    }\n",
       "</style>\n",
       "<table border=\"1\" class=\"dataframe\">\n",
       "  <thead>\n",
       "    <tr style=\"text-align: right;\">\n",
       "      <th></th>\n",
       "      <th>vol</th>\n",
       "    </tr>\n",
       "    <tr>\n",
       "      <th>date</th>\n",
       "      <th></th>\n",
       "    </tr>\n",
       "  </thead>\n",
       "  <tbody>\n",
       "    <tr>\n",
       "      <th>2000-01-04</th>\n",
       "      <td>-9.619532</td>\n",
       "    </tr>\n",
       "    <tr>\n",
       "      <th>2000-01-05</th>\n",
       "      <td>-9.593818</td>\n",
       "    </tr>\n",
       "    <tr>\n",
       "      <th>2000-01-06</th>\n",
       "      <td>-9.826425</td>\n",
       "    </tr>\n",
       "    <tr>\n",
       "      <th>2000-01-07</th>\n",
       "      <td>-9.812373</td>\n",
       "    </tr>\n",
       "    <tr>\n",
       "      <th>2000-01-10</th>\n",
       "      <td>-10.441778</td>\n",
       "    </tr>\n",
       "    <tr>\n",
       "      <th>...</th>\n",
       "      <td>...</td>\n",
       "    </tr>\n",
       "    <tr>\n",
       "      <th>2020-03-13</th>\n",
       "      <td>-9.055258</td>\n",
       "    </tr>\n",
       "    <tr>\n",
       "      <th>2020-03-16</th>\n",
       "      <td>-8.599058</td>\n",
       "    </tr>\n",
       "    <tr>\n",
       "      <th>2020-03-17</th>\n",
       "      <td>-9.449374</td>\n",
       "    </tr>\n",
       "    <tr>\n",
       "      <th>2020-03-18</th>\n",
       "      <td>-9.116603</td>\n",
       "    </tr>\n",
       "    <tr>\n",
       "      <th>2020-03-19</th>\n",
       "      <td>-10.225655</td>\n",
       "    </tr>\n",
       "  </tbody>\n",
       "</table>\n",
       "<p>5254 rows × 1 columns</p>\n",
       "</div>"
      ],
      "text/plain": [
       "                  vol\n",
       "date                 \n",
       "2000-01-04  -9.619532\n",
       "2000-01-05  -9.593818\n",
       "2000-01-06  -9.826425\n",
       "2000-01-07  -9.812373\n",
       "2000-01-10 -10.441778\n",
       "...               ...\n",
       "2020-03-13  -9.055258\n",
       "2020-03-16  -8.599058\n",
       "2020-03-17  -9.449374\n",
       "2020-03-18  -9.116603\n",
       "2020-03-19 -10.225655\n",
       "\n",
       "[5254 rows x 1 columns]"
      ]
     },
     "execution_count": 40,
     "metadata": {},
     "output_type": "execute_result"
    }
   ],
   "source": [
    "log_future_vol"
   ]
  },
  {
   "cell_type": "markdown",
   "id": "ae2826ec-b3eb-41d4-a7b6-15f6e682354d",
   "metadata": {},
   "source": [
    "Based om AIC/BIC cirterions, pick the ARMA(2, 1) model"
   ]
  },
  {
   "cell_type": "code",
   "execution_count": 41,
   "id": "974a2a6a-f8f4-4cc3-abff-342c2be66a98",
   "metadata": {},
   "outputs": [
    {
     "data": {
      "text/plain": [
       "date\n",
       "2000-01-04   -10.458747\n",
       "2000-01-05    -9.877182\n",
       "2000-01-06    -9.764956\n",
       "2000-01-07    -9.792546\n",
       "2000-01-10    -9.805648\n",
       "                ...    \n",
       "2020-03-13    -9.594473\n",
       "2020-03-16    -9.497856\n",
       "2020-03-17    -9.331165\n",
       "2020-03-18    -9.367843\n",
       "2020-03-19    -9.330924\n",
       "Name: predicted_mean, Length: 5254, dtype: float64"
      ]
     },
     "execution_count": 41,
     "metadata": {},
     "output_type": "execute_result"
    }
   ],
   "source": [
    "res2.predict()"
   ]
  },
  {
   "cell_type": "code",
   "execution_count": 42,
   "id": "9c2b8a60-9de9-4ff6-9fe0-a77621ee2ed7",
   "metadata": {},
   "outputs": [
    {
     "data": {
      "text/plain": [
       "[<matplotlib.lines.Line2D at 0x24336eee170>]"
      ]
     },
     "execution_count": 42,
     "metadata": {},
     "output_type": "execute_result"
    },
    {
     "data": {
      "image/png": "[encoded data removed]",
      "text/plain": [
       "<Figure size 640x480 with 1 Axes>"
      ]
     },
     "metadata": {},
     "output_type": "display_data"
    }
   ],
   "source": [
    "plt.plot(log_future_vol, label='actual')\n",
    "plt.plot(res2.predict(), label='prediction')"
   ]
  },
  {
   "cell_type": "code",
   "execution_count": 74,
   "id": "05a4893b-6533-4a59-b124-062d81b29300",
   "metadata": {},
   "outputs": [
    {
     "data": {
      "text/html": [
       "<div>\n",
       "<style scoped>\n",
       "    .dataframe tbody tr th:only-of-type {\n",
       "        vertical-align: middle;\n",
       "    }\n",
       "\n",
       "    .dataframe tbody tr th {\n",
       "        vertical-align: top;\n",
       "    }\n",
       "\n",
       "    .dataframe thead th {\n",
       "        text-align: right;\n",
       "    }\n",
       "</style>\n",
       "<table border=\"1\" class=\"dataframe\">\n",
       "  <thead>\n",
       "    <tr style=\"text-align: right;\">\n",
       "      <th></th>\n",
       "      <th>vol</th>\n",
       "    </tr>\n",
       "    <tr>\n",
       "      <th>date</th>\n",
       "      <th></th>\n",
       "    </tr>\n",
       "  </thead>\n",
       "  <tbody>\n",
       "    <tr>\n",
       "      <th>2000-01-04</th>\n",
       "      <td>-9.619532</td>\n",
       "    </tr>\n",
       "    <tr>\n",
       "      <th>2000-01-05</th>\n",
       "      <td>-9.593818</td>\n",
       "    </tr>\n",
       "    <tr>\n",
       "      <th>2000-01-06</th>\n",
       "      <td>-9.826425</td>\n",
       "    </tr>\n",
       "    <tr>\n",
       "      <th>2000-01-07</th>\n",
       "      <td>-9.812373</td>\n",
       "    </tr>\n",
       "    <tr>\n",
       "      <th>2000-01-10</th>\n",
       "      <td>-10.441778</td>\n",
       "    </tr>\n",
       "    <tr>\n",
       "      <th>...</th>\n",
       "      <td>...</td>\n",
       "    </tr>\n",
       "    <tr>\n",
       "      <th>2019-03-21</th>\n",
       "      <td>-11.313864</td>\n",
       "    </tr>\n",
       "    <tr>\n",
       "      <th>2019-03-22</th>\n",
       "      <td>-10.141469</td>\n",
       "    </tr>\n",
       "    <tr>\n",
       "      <th>2019-03-25</th>\n",
       "      <td>-11.560825</td>\n",
       "    </tr>\n",
       "    <tr>\n",
       "      <th>2019-03-26</th>\n",
       "      <td>-11.696588</td>\n",
       "    </tr>\n",
       "    <tr>\n",
       "      <th>2019-03-27</th>\n",
       "      <td>-10.910097</td>\n",
       "    </tr>\n",
       "  </tbody>\n",
       "</table>\n",
       "<p>5000 rows × 1 columns</p>\n",
       "</div>"
      ],
      "text/plain": [
       "                  vol\n",
       "date                 \n",
       "2000-01-04  -9.619532\n",
       "2000-01-05  -9.593818\n",
       "2000-01-06  -9.826425\n",
       "2000-01-07  -9.812373\n",
       "2000-01-10 -10.441778\n",
       "...               ...\n",
       "2019-03-21 -11.313864\n",
       "2019-03-22 -10.141469\n",
       "2019-03-25 -11.560825\n",
       "2019-03-26 -11.696588\n",
       "2019-03-27 -10.910097\n",
       "\n",
       "[5000 rows x 1 columns]"
      ]
     },
     "execution_count": 74,
     "metadata": {},
     "output_type": "execute_result"
    }
   ],
   "source": [
    "log_future_vol_train"
   ]
  },
  {
   "cell_type": "code",
   "execution_count": 103,
   "id": "3d53a503-2868-4766-9cdf-1451c8f68c3c",
   "metadata": {},
   "outputs": [
    {
     "data": {
      "text/html": [
       "<div>\n",
       "<style scoped>\n",
       "    .dataframe tbody tr th:only-of-type {\n",
       "        vertical-align: middle;\n",
       "    }\n",
       "\n",
       "    .dataframe tbody tr th {\n",
       "        vertical-align: top;\n",
       "    }\n",
       "\n",
       "    .dataframe thead th {\n",
       "        text-align: right;\n",
       "    }\n",
       "</style>\n",
       "<table border=\"1\" class=\"dataframe\">\n",
       "  <thead>\n",
       "    <tr style=\"text-align: right;\">\n",
       "      <th></th>\n",
       "      <th>vol</th>\n",
       "    </tr>\n",
       "  </thead>\n",
       "  <tbody>\n",
       "    <tr>\n",
       "      <th>5000</th>\n",
       "      <td>-11.056440</td>\n",
       "    </tr>\n",
       "    <tr>\n",
       "      <th>5001</th>\n",
       "      <td>-11.610383</td>\n",
       "    </tr>\n",
       "    <tr>\n",
       "      <th>5002</th>\n",
       "      <td>-11.969470</td>\n",
       "    </tr>\n",
       "    <tr>\n",
       "      <th>5003</th>\n",
       "      <td>-12.097270</td>\n",
       "    </tr>\n",
       "    <tr>\n",
       "      <th>5004</th>\n",
       "      <td>-11.666269</td>\n",
       "    </tr>\n",
       "    <tr>\n",
       "      <th>...</th>\n",
       "      <td>...</td>\n",
       "    </tr>\n",
       "    <tr>\n",
       "      <th>5249</th>\n",
       "      <td>-9.055258</td>\n",
       "    </tr>\n",
       "    <tr>\n",
       "      <th>5250</th>\n",
       "      <td>-8.599058</td>\n",
       "    </tr>\n",
       "    <tr>\n",
       "      <th>5251</th>\n",
       "      <td>-9.449374</td>\n",
       "    </tr>\n",
       "    <tr>\n",
       "      <th>5252</th>\n",
       "      <td>-9.116603</td>\n",
       "    </tr>\n",
       "    <tr>\n",
       "      <th>5253</th>\n",
       "      <td>-10.225655</td>\n",
       "    </tr>\n",
       "  </tbody>\n",
       "</table>\n",
       "<p>254 rows × 1 columns</p>\n",
       "</div>"
      ],
      "text/plain": [
       "            vol\n",
       "5000 -11.056440\n",
       "5001 -11.610383\n",
       "5002 -11.969470\n",
       "5003 -12.097270\n",
       "5004 -11.666269\n",
       "...         ...\n",
       "5249  -9.055258\n",
       "5250  -8.599058\n",
       "5251  -9.449374\n",
       "5252  -9.116603\n",
       "5253 -10.225655\n",
       "\n",
       "[254 rows x 1 columns]"
      ]
     },
     "execution_count": 103,
     "metadata": {},
     "output_type": "execute_result"
    }
   ],
   "source": [
    "log_future_vol_test #.dropna()"
   ]
  },
  {
   "cell_type": "code",
   "execution_count": 147,
   "id": "f47929e1-a449-4d14-8073-738e6753430b",
   "metadata": {},
   "outputs": [
    {
     "name": "stdout",
     "output_type": "stream",
     "text": [
      "                               SARIMAX Results                                \n",
      "==============================================================================\n",
      "Dep. Variable:                    vol   No. Observations:                 5000\n",
      "Model:                 ARIMA(1, 0, 1)   Log Likelihood               -3530.018\n",
      "Date:                Sat, 30 Nov 2024   AIC                           7068.036\n",
      "Time:                        09:08:27   BIC                           7094.104\n",
      "Sample:                             0   HQIC                          7077.172\n",
      "                               - 5000                                         \n",
      "Covariance Type:                  opg                                         \n",
      "==============================================================================\n",
      "                 coef    std err          z      P>|z|      [0.025      0.975]\n",
      "------------------------------------------------------------------------------\n",
      "const        -10.4312      0.115    -90.353      0.000     -10.657     -10.205\n",
      "ar.L1          0.9880      0.002    413.185      0.000       0.983       0.993\n",
      "ma.L1         -0.8031      0.009    -90.786      0.000      -0.820      -0.786\n",
      "sigma2         0.2402      0.003     78.178      0.000       0.234       0.246\n",
      "===================================================================================\n",
      "Ljung-Box (L1) (Q):                  30.02   Jarque-Bera (JB):              2207.56\n",
      "Prob(Q):                              0.00   Prob(JB):                         0.00\n",
      "Heteroskedasticity (H):               1.54   Skew:                             0.45\n",
      "Prob(H) (two-sided):                  0.00   Kurtosis:                         6.13\n",
      "===================================================================================\n",
      "\n",
      "Warnings:\n",
      "[1] Covariance matrix calculated using the outer product of gradients (complex-step).\n"
     ]
    },
    {
     "data": {
      "text/plain": [
       "5000   -11.198826\n",
       "5001   -11.163310\n",
       "5002   -11.237262\n",
       "5003   -11.363077\n",
       "5004   -11.487755\n",
       "          ...    \n",
       "5249    -9.643605\n",
       "5250    -9.544182\n",
       "5251    -9.379948\n",
       "5252    -9.405357\n",
       "5253    -9.364204\n",
       "Name: predicted_mean, Length: 254, dtype: float64"
      ]
     },
     "execution_count": 147,
     "metadata": {},
     "output_type": "execute_result"
    }
   ],
   "source": [
    "log_future_train_intind = log_future_vol.reset_index(drop=True)\n",
    "log_future_vol_train = log_future_train_intind.iloc[:5000]\n",
    "log_future_vol_test = log_future_train_intind.iloc[5000:]\n",
    "\n",
    "arma_model = ARIMA(log_future_vol_train, order=(1, 0, 1))\n",
    "res = arma_model.fit()\n",
    "print(res.summary())\n",
    "\n",
    "res= res.extend(log_future_vol_test)\n",
    "\n",
    "res.predict()"
   ]
  },
  {
   "cell_type": "code",
   "execution_count": 148,
   "id": "20cbe471-74ce-44ce-bc36-7d9496c49b4f",
   "metadata": {},
   "outputs": [
    {
     "data": {
      "image/png": "[encoded data removed]",
      "text/plain": [
       "<Figure size 640x480 with 1 Axes>"
      ]
     },
     "metadata": {},
     "output_type": "display_data"
    }
   ],
   "source": [
    "predicted = res.predict()\n",
    "predicted.index = log_future_vol.iloc[5000:].index\n",
    "actual = log_future_vol.iloc[5000:]\n",
    "\n",
    "plt.plot(actual, label='actual')\n",
    "plt.plot(predicted, label='predicted')\n",
    "plt.legend()\n",
    "plt.show()"
   ]
  },
  {
   "cell_type": "code",
   "execution_count": 149,
   "id": "1f104580-121d-48ba-8fef-ff182a9708c6",
   "metadata": {},
   "outputs": [
    {
     "data": {
      "image/png": "[encoded data removed]",
      "text/plain": [
       "<Figure size 640x480 with 1 Axes>"
      ]
     },
     "metadata": {},
     "output_type": "display_data"
    }
   ],
   "source": [
    "# transform back to std and find mse\n",
    "def vol_inverse_transform(log_var):\n",
    "    return np.sqrt(np.exp(log_var))\n",
    "\n",
    "actual_vol = vol_inverse_transform(actual)\n",
    "predicted_vol = vol_inverse_transform(predicted)\n",
    "plt.plot(actual_vol, label='actual vol')\n",
    "plt.plot(predicted_vol, label='predicted vol')\n",
    "plt.legend()\n",
    "plt.show()"
   ]
  },
  {
   "cell_type": "code",
   "execution_count": 150,
   "id": "55adfeb0-a747-428c-8317-53421b81122b",
   "metadata": {},
   "outputs": [
    {
     "data": {
      "text/plain": [
       "1.6593533298394577e-06"
      ]
     },
     "execution_count": 150,
     "metadata": {},
     "output_type": "execute_result"
    }
   ],
   "source": [
    "mse = np.mean((actual_vol['vol'] - predicted_vol)**2)\n",
    "mse"
   ]
  },
  {
   "cell_type": "markdown",
   "id": "7e488c1c-8dd0-497d-9f15-d06e635f057c",
   "metadata": {},
   "source": [
    "## Benchmark + Entropy Exog (can we beat it?)"
   ]
  },
  {
   "cell_type": "code",
   "execution_count": 112,
   "id": "c782587d-3f04-4a08-8bfb-11cd9aaab97f",
   "metadata": {},
   "outputs": [
    {
     "name": "stderr",
     "output_type": "stream",
     "text": [
      "C:\\Users\\camer\\AppData\\Local\\Temp\\ipykernel_62276\\1932594217.py:5: DeprecationWarning: DataFrameGroupBy.apply operated on the grouping columns. This behavior is deprecated, and in a future version of pandas the grouping columns will be excluded from the operation. Either pass `include_groups=False` to exclude the groupings or explicitly select the grouping columns after groupby to silence this warning.\n",
      "  entropy_prev_day = eurusd_data[['date', 'ret']].dropna().groupby('date').apply(lambda x: encode_and_entropy(x['ret'], L, q)).shift()\n"
     ]
    },
    {
     "name": "stdout",
     "output_type": "stream",
     "text": [
      "9 14 0.4617601460835684\n"
     ]
    },
    {
     "name": "stderr",
     "output_type": "stream",
     "text": [
      "C:\\Users\\camer\\AppData\\Local\\Temp\\ipykernel_62276\\1932594217.py:5: DeprecationWarning: DataFrameGroupBy.apply operated on the grouping columns. This behavior is deprecated, and in a future version of pandas the grouping columns will be excluded from the operation. Either pass `include_groups=False` to exclude the groupings or explicitly select the grouping columns after groupby to silence this warning.\n",
      "  entropy_prev_day = eurusd_data[['date', 'ret']].dropna().groupby('date').apply(lambda x: encode_and_entropy(x['ret'], L, q)).shift()\n"
     ]
    },
    {
     "name": "stdout",
     "output_type": "stream",
     "text": [
      "9 15 0.4617245026330411\n"
     ]
    },
    {
     "name": "stderr",
     "output_type": "stream",
     "text": [
      "C:\\Users\\camer\\AppData\\Local\\Temp\\ipykernel_62276\\1932594217.py:5: DeprecationWarning: DataFrameGroupBy.apply operated on the grouping columns. This behavior is deprecated, and in a future version of pandas the grouping columns will be excluded from the operation. Either pass `include_groups=False` to exclude the groupings or explicitly select the grouping columns after groupby to silence this warning.\n",
      "  entropy_prev_day = eurusd_data[['date', 'ret']].dropna().groupby('date').apply(lambda x: encode_and_entropy(x['ret'], L, q)).shift()\n"
     ]
    },
    {
     "name": "stdout",
     "output_type": "stream",
     "text": [
      "9 16 0.4616948983285756\n"
     ]
    },
    {
     "name": "stderr",
     "output_type": "stream",
     "text": [
      "C:\\Users\\camer\\AppData\\Local\\Temp\\ipykernel_62276\\1932594217.py:5: DeprecationWarning: DataFrameGroupBy.apply operated on the grouping columns. This behavior is deprecated, and in a future version of pandas the grouping columns will be excluded from the operation. Either pass `include_groups=False` to exclude the groupings or explicitly select the grouping columns after groupby to silence this warning.\n",
      "  entropy_prev_day = eurusd_data[['date', 'ret']].dropna().groupby('date').apply(lambda x: encode_and_entropy(x['ret'], L, q)).shift()\n"
     ]
    },
    {
     "name": "stdout",
     "output_type": "stream",
     "text": [
      "10 14 0.4615159218790462\n"
     ]
    },
    {
     "name": "stderr",
     "output_type": "stream",
     "text": [
      "C:\\Users\\camer\\AppData\\Local\\Temp\\ipykernel_62276\\1932594217.py:5: DeprecationWarning: DataFrameGroupBy.apply operated on the grouping columns. This behavior is deprecated, and in a future version of pandas the grouping columns will be excluded from the operation. Either pass `include_groups=False` to exclude the groupings or explicitly select the grouping columns after groupby to silence this warning.\n",
      "  entropy_prev_day = eurusd_data[['date', 'ret']].dropna().groupby('date').apply(lambda x: encode_and_entropy(x['ret'], L, q)).shift()\n"
     ]
    },
    {
     "name": "stdout",
     "output_type": "stream",
     "text": [
      "10 15 0.46148929273745165\n"
     ]
    },
    {
     "name": "stderr",
     "output_type": "stream",
     "text": [
      "C:\\Users\\camer\\AppData\\Local\\Temp\\ipykernel_62276\\1932594217.py:5: DeprecationWarning: DataFrameGroupBy.apply operated on the grouping columns. This behavior is deprecated, and in a future version of pandas the grouping columns will be excluded from the operation. Either pass `include_groups=False` to exclude the groupings or explicitly select the grouping columns after groupby to silence this warning.\n",
      "  entropy_prev_day = eurusd_data[['date', 'ret']].dropna().groupby('date').apply(lambda x: encode_and_entropy(x['ret'], L, q)).shift()\n"
     ]
    },
    {
     "name": "stdout",
     "output_type": "stream",
     "text": [
      "10 16 0.46146859255463923\n"
     ]
    },
    {
     "name": "stderr",
     "output_type": "stream",
     "text": [
      "C:\\Users\\camer\\AppData\\Local\\Temp\\ipykernel_62276\\1932594217.py:5: DeprecationWarning: DataFrameGroupBy.apply operated on the grouping columns. This behavior is deprecated, and in a future version of pandas the grouping columns will be excluded from the operation. Either pass `include_groups=False` to exclude the groupings or explicitly select the grouping columns after groupby to silence this warning.\n",
      "  entropy_prev_day = eurusd_data[['date', 'ret']].dropna().groupby('date').apply(lambda x: encode_and_entropy(x['ret'], L, q)).shift()\n"
     ]
    },
    {
     "name": "stdout",
     "output_type": "stream",
     "text": [
      "11 14 0.4616137659222499\n"
     ]
    },
    {
     "name": "stderr",
     "output_type": "stream",
     "text": [
      "C:\\Users\\camer\\AppData\\Local\\Temp\\ipykernel_62276\\1932594217.py:5: DeprecationWarning: DataFrameGroupBy.apply operated on the grouping columns. This behavior is deprecated, and in a future version of pandas the grouping columns will be excluded from the operation. Either pass `include_groups=False` to exclude the groupings or explicitly select the grouping columns after groupby to silence this warning.\n",
      "  entropy_prev_day = eurusd_data[['date', 'ret']].dropna().groupby('date').apply(lambda x: encode_and_entropy(x['ret'], L, q)).shift()\n"
     ]
    },
    {
     "name": "stdout",
     "output_type": "stream",
     "text": [
      "11 15 0.4615764429988596\n",
      "11 16 0.4615365561130784\n",
      "(9, 14) 0.4617601460835684\n"
     ]
    },
    {
     "name": "stderr",
     "output_type": "stream",
     "text": [
      "C:\\Users\\camer\\AppData\\Local\\Temp\\ipykernel_62276\\1932594217.py:5: DeprecationWarning: DataFrameGroupBy.apply operated on the grouping columns. This behavior is deprecated, and in a future version of pandas the grouping columns will be excluded from the operation. Either pass `include_groups=False` to exclude the groupings or explicitly select the grouping columns after groupby to silence this warning.\n",
      "  entropy_prev_day = eurusd_data[['date', 'ret']].dropna().groupby('date').apply(lambda x: encode_and_entropy(x['ret'], L, q)).shift()\n"
     ]
    }
   ],
   "source": [
    "import itertools\n",
    "best_rsqd = 0\n",
    "best_qL = (2, 10)\n",
    "for q, L in itertools.product([9, 10, 11], [14, 15, 16]):\n",
    "    entropy_prev_day = eurusd_data[['date', 'ret']].dropna().groupby('date').apply(lambda x: encode_and_entropy(x['ret'], L, q)).shift()\n",
    "    mod = sm.OLS(eurusd_data[['date', 'ret_sqd']].set_index('date').groupby('date').mean().iloc[1:], entropy_prev_day.dropna())\n",
    "    res = mod.fit()\n",
    "    print(q, L, res.rsquared)\n",
    "    best_rsqd = max(res.rsquared, best_rsqd)\n",
    "    if res.rsquared == best_rsqd:\n",
    "        best_qL = (q, L)\n",
    "print(best_qL, best_rsqd)"
   ]
  },
  {
   "cell_type": "code",
   "execution_count": 116,
   "id": "00b219a8-2e07-40e1-89ce-e961dfb678cd",
   "metadata": {},
   "outputs": [
    {
     "name": "stderr",
     "output_type": "stream",
     "text": [
      "C:\\Users\\camer\\AppData\\Local\\Temp\\ipykernel_62276\\660271669.py:3: DeprecationWarning: DataFrameGroupBy.apply operated on the grouping columns. This behavior is deprecated, and in a future version of pandas the grouping columns will be excluded from the operation. Either pass `include_groups=False` to exclude the groupings or explicitly select the grouping columns after groupby to silence this warning.\n",
      "  entropy_prev_day = eurusd_data[['date', 'ret']].dropna().groupby('date').apply(lambda x: encode_and_entropy(x['ret'], L, q)).shift()\n"
     ]
    }
   ],
   "source": [
    "L = 14 # length of the pattern\n",
    "q = 3 # despite tests above, 9 will like be too much, lets just stick with 3 for now\n",
    "entropy_prev_day = eurusd_data[['date', 'ret']].dropna().groupby('date').apply(lambda x: encode_and_entropy(x['ret'], L, q)).shift()"
   ]
  },
  {
   "cell_type": "code",
   "execution_count": 117,
   "id": "be363f88-a396-4b49-bde4-854b002df4b5",
   "metadata": {},
   "outputs": [
    {
     "data": {
      "text/plain": [
       "date\n",
       "2000-01-03         NaN\n",
       "2000-01-04    6.191702\n",
       "2000-01-05    6.321928\n",
       "2000-01-06    6.357552\n",
       "2000-01-07    6.333162\n",
       "                ...   \n",
       "2020-03-13    5.928049\n",
       "2020-03-16    6.285402\n",
       "2020-03-17    6.357552\n",
       "2020-03-18    6.357552\n",
       "2020-03-19    5.960853\n",
       "Length: 5255, dtype: float64"
      ]
     },
     "execution_count": 117,
     "metadata": {},
     "output_type": "execute_result"
    }
   ],
   "source": [
    "entropy_prev_day"
   ]
  },
  {
   "cell_type": "code",
   "execution_count": 151,
   "id": "9b0da52f-f838-4313-9fc2-73a7e9f1c161",
   "metadata": {},
   "outputs": [
    {
     "name": "stdout",
     "output_type": "stream",
     "text": [
      "                               SARIMAX Results                                \n",
      "==============================================================================\n",
      "Dep. Variable:                    vol   No. Observations:                 5000\n",
      "Model:                 ARIMA(1, 0, 1)   Log Likelihood               -3527.524\n",
      "Date:                Sat, 30 Nov 2024   AIC                           7065.047\n",
      "Time:                        09:08:47   BIC                           7097.633\n",
      "Sample:                             0   HQIC                          7076.468\n",
      "                               - 5000                                         \n",
      "Covariance Type:                  opg                                         \n",
      "==============================================================================\n",
      "                 coef    std err          z      P>|z|      [0.025      0.975]\n",
      "------------------------------------------------------------------------------\n",
      "const        -10.5359      0.120    -87.644      0.000     -10.772     -10.300\n",
      "entropy        0.0175      0.007      2.460      0.014       0.004       0.031\n",
      "ar.L1          0.9876      0.002    404.711      0.000       0.983       0.992\n",
      "ma.L1         -0.7996      0.009    -89.673      0.000      -0.817      -0.782\n",
      "sigma2         0.2400      0.003     78.221      0.000       0.234       0.246\n",
      "===================================================================================\n",
      "Ljung-Box (L1) (Q):                  37.04   Jarque-Bera (JB):              2232.63\n",
      "Prob(Q):                              0.00   Prob(JB):                         0.00\n",
      "Heteroskedasticity (H):               1.55   Skew:                             0.46\n",
      "Prob(H) (two-sided):                  0.00   Kurtosis:                         6.14\n",
      "===================================================================================\n",
      "\n",
      "Warnings:\n",
      "[1] Covariance matrix calculated using the outer product of gradients (complex-step).\n"
     ]
    },
    {
     "data": {
      "text/plain": [
       "5000   -11.180126\n",
       "5001   -11.148364\n",
       "5002   -11.226665\n",
       "5003   -11.360032\n",
       "5004   -11.482169\n",
       "          ...    \n",
       "5249    -9.635122\n",
       "5250    -9.529728\n",
       "5251    -9.364615\n",
       "5252    -9.393684\n",
       "5253    -9.361325\n",
       "Name: predicted_mean, Length: 254, dtype: float64"
      ]
     },
     "execution_count": 151,
     "metadata": {},
     "output_type": "execute_result"
    }
   ],
   "source": [
    "entropy_prev_day = pd.DataFrame(entropy_prev_day, columns=['entropy']).dropna()\n",
    "log_future_vol_entropy_ind = log_future_vol.loc[entropy_prev_day.index]\n",
    "log_future_train_intind = log_future_vol_entropy_ind.reset_index(drop=True)\n",
    "entropy_prev_day_intind = entropy_prev_day.reset_index(drop=True)\n",
    "\n",
    "log_future_vol_train = log_future_train_intind.iloc[:5000]\n",
    "log_future_vol_test = log_future_train_intind.iloc[5000:]\n",
    "entropy_prev_day_train = entropy_prev_day_intind.iloc[:5000]\n",
    "entropy_prev_day_test = entropy_prev_day_intind.iloc[5000:]\n",
    "\n",
    "arma_entropy_model = ARIMA(log_future_vol_train, exog=entropy_prev_day_train, order=(1, 0, 1))\n",
    "res_entropy = arma_entropy_model.fit()\n",
    "print(res_entropy.summary())\n",
    "\n",
    "res_entropy = res_entropy.extend(log_future_vol_test, exog=entropy_prev_day_test)\n",
    "\n",
    "res_entropy.predict()"
   ]
  },
  {
   "cell_type": "markdown",
   "id": "87266b85-7d39-4e5f-ab63-94a5e6b6c9a6",
   "metadata": {},
   "source": [
    "Using exog appears to be worse for the AIC/BIC even when we take out the AR2 parameter, lets see how it performs out of sample"
   ]
  },
  {
   "cell_type": "code",
   "execution_count": 152,
   "id": "eff3ae76-fab4-4795-b2df-a260038033ed",
   "metadata": {},
   "outputs": [
    {
     "data": {
      "image/png": "[encoded data removed]",
      "text/plain": [
       "<Figure size 640x480 with 1 Axes>"
      ]
     },
     "metadata": {},
     "output_type": "display_data"
    }
   ],
   "source": [
    "predicted_entropy = res_entropy.predict()\n",
    "predicted_entropy.index = log_future_vol_entropy_ind.iloc[5000:].index\n",
    "actual = log_future_vol_entropy_ind.iloc[5000:]\n",
    "\n",
    "actual_vol = vol_inverse_transform(actual)\n",
    "predicted_vol_entropy = vol_inverse_transform(predicted_entropy)\n",
    "plt.plot(actual_vol, label='actual vol')\n",
    "plt.plot(predicted_vol_entropy, label='predicted vol')\n",
    "plt.legend()\n",
    "plt.show()"
   ]
  },
  {
   "cell_type": "code",
   "execution_count": 153,
   "id": "4743a8a4-8b39-4f06-9879-0b2657d2d99b",
   "metadata": {},
   "outputs": [
    {
     "data": {
      "text/plain": [
       "1.644505321888658e-06"
      ]
     },
     "execution_count": 153,
     "metadata": {},
     "output_type": "execute_result"
    }
   ],
   "source": [
    "mse = np.mean((actual_vol['vol'] - predicted_vol_entropy)**2)\n",
    "mse"
   ]
  },
  {
   "cell_type": "code",
   "execution_count": 154,
   "id": "7b4922dd-2898-4d15-bc24-1bfd46ae15c4",
   "metadata": {},
   "outputs": [
    {
     "data": {
      "text/plain": [
       "0.8948068915639646"
      ]
     },
     "execution_count": 154,
     "metadata": {},
     "output_type": "execute_result"
    }
   ],
   "source": [
    "100*(1.6593533298394577e-06 - 1.644505321888658e-06)/1.6593533298394577e-06"
   ]
  },
  {
   "cell_type": "markdown",
   "id": "d04fdac0-d56e-4043-8013-4ed3642738ea",
   "metadata": {},
   "source": [
    "entropy does beat the OOS benchmark for ARMA(1, 1), which is the best performing model both with and without antropy as an exogeneous variable. Adding entropy as an exogeneous variable to this model does have some predictive power, reducing the OOS MSE, giving a 0.89% improvement."
   ]
  },
  {
   "cell_type": "markdown",
   "id": "20d28831-12f4-45fc-8251-10ee28a03f43",
   "metadata": {},
   "source": [
    "## Linear modelling"
   ]
  },
  {
   "cell_type": "code",
   "execution_count": null,
   "id": "57749b46-718b-4537-a95b-0bcc7030990b",
   "metadata": {},
   "outputs": [],
   "source": []
  }
 ],
 "metadata": {
  "kernelspec": {
   "display_name": "home_research",
   "language": "python",
   "name": "home_research"
  },
  "language_info": {
   "codemirror_mode": {
    "name": "ipython",
    "version": 3
   },
   "file_extension": ".py",
   "mimetype": "text/x-python",
   "name": "python",
   "nbconvert_exporter": "python",
   "pygments_lexer": "ipython3",
   "version": "3.10.14"
  }
 },
 "nbformat": 4,
 "nbformat_minor": 5
}
