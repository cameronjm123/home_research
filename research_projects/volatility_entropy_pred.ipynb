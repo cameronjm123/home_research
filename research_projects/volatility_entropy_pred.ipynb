{
 "cells": [
  {
   "cell_type": "markdown",
   "id": "3cb97d44-ed41-4d6f-892a-163b18ae9242",
   "metadata": {},
   "source": [
    "# Entropy as a Predictor for Intraday Volatility in FX"
   ]
  },
  {
   "cell_type": "markdown",
   "id": "52a85586-d086-4489-acdf-6142bfb113e2",
   "metadata": {},
   "source": [
    "We consider entropy as an estimator of intraday volatility. 'True' volatility is calculated as the 15 minute returns standard deviation across the day, whilst entropy is calculated using the same data - where we aim to estimate the volatility for the following day. This is done as opposed to estimates based on a rolling window.\n",
    "\n",
    "Various entropy measures and predictive relationships are explored between entropy and volatility. We consider a GARCH + entropy measurement, linear regression, then non linear estimates based on decision trees, gradient boosting trees.\n",
    "\n",
    "Given the volatility is not actually observed, we also apply our best estimator within a Kalman filter to attempt to form better estimates.\n",
    "\n",
    "We initially use EURUSD data, then extend to other currency pairs. We begin working on low frequency data, looking later at higher frequency data to see if the model atill holds, taking advantage of the use of neural networks where we not have more data.\n",
    "As an extension, we use mutual information as a way to estimate currency pair correlation, and hence the 'driving currency' of volatility. This could in theory be used to predict covariance matrices maybe?"
   ]
  },
  {
   "cell_type": "code",
   "execution_count": 8,
   "id": "11f22b45-5542-4ba0-ab3f-88dd83cfe42a",
   "metadata": {},
   "outputs": [],
   "source": [
    "import numpy as np\n",
    "import pandas as pd\n",
    "import matplotlib.pyplot as plt\n",
    "import sys\n",
    "sys.path.append('..')"
   ]
  },
  {
   "cell_type": "code",
   "execution_count": 142,
   "id": "47e01344-9f91-44e5-ad11-482cfd73768f",
   "metadata": {},
   "outputs": [],
   "source": [
    "path = 'C:/Users/camer/OneDrive/Documents/dev/home_research/data/volatility_entropy_project_fx/'"
   ]
  },
  {
   "cell_type": "code",
   "execution_count": 202,
   "id": "da0db9c7-28e8-4cf2-aca9-f34dcb3f04bc",
   "metadata": {},
   "outputs": [
    {
     "data": {
      "text/html": [
       "<div>\n",
       "<style scoped>\n",
       "    .dataframe tbody tr th:only-of-type {\n",
       "        vertical-align: middle;\n",
       "    }\n",
       "\n",
       "    .dataframe tbody tr th {\n",
       "        vertical-align: top;\n",
       "    }\n",
       "\n",
       "    .dataframe thead th {\n",
       "        text-align: right;\n",
       "    }\n",
       "</style>\n",
       "<table border=\"1\" class=\"dataframe\">\n",
       "  <thead>\n",
       "    <tr style=\"text-align: right;\">\n",
       "      <th></th>\n",
       "      <th>DATE_TIME</th>\n",
       "      <th>CLOSE</th>\n",
       "    </tr>\n",
       "  </thead>\n",
       "  <tbody>\n",
       "    <tr>\n",
       "      <th>0</th>\n",
       "      <td>2000.01.03 00:00:00</td>\n",
       "      <td>1.00770</td>\n",
       "    </tr>\n",
       "    <tr>\n",
       "      <th>1</th>\n",
       "      <td>2000.01.03 00:15:00</td>\n",
       "      <td>1.00860</td>\n",
       "    </tr>\n",
       "    <tr>\n",
       "      <th>2</th>\n",
       "      <td>2000.01.03 00:30:00</td>\n",
       "      <td>1.00790</td>\n",
       "    </tr>\n",
       "    <tr>\n",
       "      <th>3</th>\n",
       "      <td>2000.01.03 00:45:00</td>\n",
       "      <td>1.01280</td>\n",
       "    </tr>\n",
       "    <tr>\n",
       "      <th>4</th>\n",
       "      <td>2000.01.03 01:00:00</td>\n",
       "      <td>1.01220</td>\n",
       "    </tr>\n",
       "    <tr>\n",
       "      <th>...</th>\n",
       "      <td>...</td>\n",
       "      <td>...</td>\n",
       "    </tr>\n",
       "    <tr>\n",
       "      <th>500746</th>\n",
       "      <td>2020.03.19 05:00:00</td>\n",
       "      <td>1.08895</td>\n",
       "    </tr>\n",
       "    <tr>\n",
       "      <th>500747</th>\n",
       "      <td>2020.03.19 05:15:00</td>\n",
       "      <td>1.08872</td>\n",
       "    </tr>\n",
       "    <tr>\n",
       "      <th>500748</th>\n",
       "      <td>2020.03.19 05:30:00</td>\n",
       "      <td>1.09086</td>\n",
       "    </tr>\n",
       "    <tr>\n",
       "      <th>500749</th>\n",
       "      <td>2020.03.19 05:45:00</td>\n",
       "      <td>1.08970</td>\n",
       "    </tr>\n",
       "    <tr>\n",
       "      <th>500750</th>\n",
       "      <td>2020.03.19 06:00:00</td>\n",
       "      <td>1.08965</td>\n",
       "    </tr>\n",
       "  </tbody>\n",
       "</table>\n",
       "<p>500751 rows × 2 columns</p>\n",
       "</div>"
      ],
      "text/plain": [
       "                  DATE_TIME    CLOSE\n",
       "0       2000.01.03 00:00:00  1.00770\n",
       "1       2000.01.03 00:15:00  1.00860\n",
       "2       2000.01.03 00:30:00  1.00790\n",
       "3       2000.01.03 00:45:00  1.01280\n",
       "4       2000.01.03 01:00:00  1.01220\n",
       "...                     ...      ...\n",
       "500746  2020.03.19 05:00:00  1.08895\n",
       "500747  2020.03.19 05:15:00  1.08872\n",
       "500748  2020.03.19 05:30:00  1.09086\n",
       "500749  2020.03.19 05:45:00  1.08970\n",
       "500750  2020.03.19 06:00:00  1.08965\n",
       "\n",
       "[500751 rows x 2 columns]"
      ]
     },
     "execution_count": 202,
     "metadata": {},
     "output_type": "execute_result"
    }
   ],
   "source": [
    "eurusd_data = pd.read_csv(path + 'EURUSD-2000-2020-15m.csv')[['DATE_TIME', 'CLOSE']]\n",
    "eurusd_data"
   ]
  },
  {
   "cell_type": "code",
   "execution_count": 203,
   "id": "a9f2cc14-2207-41b2-9487-1836d489cb83",
   "metadata": {},
   "outputs": [],
   "source": [
    "eurusd_data['date'] = pd.to_datetime(eurusd_data['DATE_TIME'])"
   ]
  },
  {
   "cell_type": "code",
   "execution_count": 32,
   "id": "8b500c70-4cd2-4451-bd52-49ad76e77b30",
   "metadata": {},
   "outputs": [
    {
     "data": {
      "text/plain": [
       "1.5613786810865325e-07"
      ]
     },
     "execution_count": 32,
     "metadata": {},
     "output_type": "execute_result"
    }
   ],
   "source": [
    "eurusd_data['ret'].mean()"
   ]
  },
  {
   "cell_type": "code",
   "execution_count": 40,
   "id": "c8e8982a-b73d-4f46-8937-eb87b3cf2474",
   "metadata": {},
   "outputs": [],
   "source": [
    "daily_vol_eurusd = eurusd_data[['date', 'ret_sqd']].groupby('date').mean().rename({'ret_sqd': 'vol'}, axis=1)"
   ]
  },
  {
   "cell_type": "code",
   "execution_count": 41,
   "id": "c252776b-7647-4871-bee0-3da79ec58259",
   "metadata": {},
   "outputs": [
    {
     "data": {
      "text/plain": [
       "<Axes: xlabel='date'>"
      ]
     },
     "execution_count": 41,
     "metadata": {},
     "output_type": "execute_result"
    },
    {
     "data": {
      "image/png": "[encoded data removed]",
      "text/plain": [
       "<Figure size 640x480 with 1 Axes>"
      ]
     },
     "metadata": {},
     "output_type": "display_data"
    }
   ],
   "source": [
    "daily_vol_eurusd.plot()"
   ]
  },
  {
   "cell_type": "code",
   "execution_count": 43,
   "id": "763fe06a-2bd2-45f7-aa4e-df92fa422fe2",
   "metadata": {},
   "outputs": [],
   "source": [
    "from helper_functions.afml_functions.afml_modelling_lib import encode_and_entropy"
   ]
  },
  {
   "cell_type": "code",
   "execution_count": 50,
   "id": "4b565004-29f7-4cdb-b82a-f863fccd32ec",
   "metadata": {},
   "outputs": [
    {
     "name": "stderr",
     "output_type": "stream",
     "text": [
      "C:\\Users\\camer\\AppData\\Local\\Temp\\ipykernel_39360\\15188886.py:1: DeprecationWarning: DataFrameGroupBy.apply operated on the grouping columns. This behavior is deprecated, and in a future version of pandas the grouping columns will be excluded from the operation. Either pass `include_groups=False` to exclude the groupings or explicitly select the grouping columns after groupby to silence this warning.\n",
      "  daily_entropy_eurusd = eurusd_data[['date', 'ret']].groupby('date').apply(lambda x: encode_and_entropy(x['ret'], 10, 3)) #.rename({'ret': 'entropy'}, axis=1)\n"
     ]
    }
   ],
   "source": [
    "daily_entropy_eurusd = eurusd_data[['date', 'ret']].groupby('date').apply(lambda x: encode_and_entropy(x['ret'], 10, 3)) #.rename({'ret': 'entropy'}, axis=1)"
   ]
  },
  {
   "cell_type": "code",
   "execution_count": 51,
   "id": "22170c0f-866a-42f4-bae9-836b6c2b49ae",
   "metadata": {},
   "outputs": [
    {
     "data": {
      "text/plain": [
       "<Axes: xlabel='date'>"
      ]
     },
     "execution_count": 51,
     "metadata": {},
     "output_type": "execute_result"
    },
    {
     "data": {
      "image/png": "[encoded data removed]",
      "text/plain": [
       "<Figure size 640x480 with 1 Axes>"
      ]
     },
     "metadata": {},
     "output_type": "display_data"
    }
   ],
   "source": [
    "daily_entropy_eurusd.plot()"
   ]
  },
  {
   "cell_type": "code",
   "execution_count": 92,
   "id": "3f5a55bb-22a5-458a-900b-a6aad3964c2e",
   "metadata": {},
   "outputs": [
    {
     "data": {
      "text/html": [
       "<div>\n",
       "<style scoped>\n",
       "    .dataframe tbody tr th:only-of-type {\n",
       "        vertical-align: middle;\n",
       "    }\n",
       "\n",
       "    .dataframe tbody tr th {\n",
       "        vertical-align: top;\n",
       "    }\n",
       "\n",
       "    .dataframe thead th {\n",
       "        text-align: right;\n",
       "    }\n",
       "</style>\n",
       "<table border=\"1\" class=\"dataframe\">\n",
       "  <thead>\n",
       "    <tr style=\"text-align: right;\">\n",
       "      <th></th>\n",
       "      <th>date</th>\n",
       "      <th>ret_sqd</th>\n",
       "    </tr>\n",
       "  </thead>\n",
       "  <tbody>\n",
       "    <tr>\n",
       "      <th>0</th>\n",
       "      <td>2000-01-03</td>\n",
       "      <td>NaN</td>\n",
       "    </tr>\n",
       "    <tr>\n",
       "      <th>1</th>\n",
       "      <td>2000-01-03</td>\n",
       "      <td>7.969568e-07</td>\n",
       "    </tr>\n",
       "    <tr>\n",
       "      <th>2</th>\n",
       "      <td>2000-01-03</td>\n",
       "      <td>4.820140e-07</td>\n",
       "    </tr>\n",
       "    <tr>\n",
       "      <th>3</th>\n",
       "      <td>2000-01-03</td>\n",
       "      <td>2.352070e-05</td>\n",
       "    </tr>\n",
       "    <tr>\n",
       "      <th>4</th>\n",
       "      <td>2000-01-03</td>\n",
       "      <td>3.511660e-07</td>\n",
       "    </tr>\n",
       "    <tr>\n",
       "      <th>...</th>\n",
       "      <td>...</td>\n",
       "      <td>...</td>\n",
       "    </tr>\n",
       "    <tr>\n",
       "      <th>500746</th>\n",
       "      <td>2020-03-19</td>\n",
       "      <td>7.299970e-07</td>\n",
       "    </tr>\n",
       "    <tr>\n",
       "      <th>500747</th>\n",
       "      <td>2020-03-19</td>\n",
       "      <td>4.462020e-08</td>\n",
       "    </tr>\n",
       "    <tr>\n",
       "      <th>500748</th>\n",
       "      <td>2020-03-19</td>\n",
       "      <td>3.856046e-06</td>\n",
       "    </tr>\n",
       "    <tr>\n",
       "      <th>500749</th>\n",
       "      <td>2020-03-19</td>\n",
       "      <td>1.131983e-06</td>\n",
       "    </tr>\n",
       "    <tr>\n",
       "      <th>500750</th>\n",
       "      <td>2020-03-19</td>\n",
       "      <td>2.105455e-09</td>\n",
       "    </tr>\n",
       "  </tbody>\n",
       "</table>\n",
       "<p>500751 rows × 2 columns</p>\n",
       "</div>"
      ],
      "text/plain": [
       "              date       ret_sqd\n",
       "0       2000-01-03           NaN\n",
       "1       2000-01-03  7.969568e-07\n",
       "2       2000-01-03  4.820140e-07\n",
       "3       2000-01-03  2.352070e-05\n",
       "4       2000-01-03  3.511660e-07\n",
       "...            ...           ...\n",
       "500746  2020-03-19  7.299970e-07\n",
       "500747  2020-03-19  4.462020e-08\n",
       "500748  2020-03-19  3.856046e-06\n",
       "500749  2020-03-19  1.131983e-06\n",
       "500750  2020-03-19  2.105455e-09\n",
       "\n",
       "[500751 rows x 2 columns]"
      ]
     },
     "execution_count": 92,
     "metadata": {},
     "output_type": "execute_result"
    }
   ],
   "source": [
    "import statsmodels.api as sm"
   ]
  },
  {
   "cell_type": "code",
   "execution_count": 165,
   "id": "9970f01d-1c40-4f06-9893-5f8f5539d8b7",
   "metadata": {},
   "outputs": [],
   "source": [
    "eurusd_data = eurusd_data.drop('DATE_TIME', axis=1)"
   ]
  },
  {
   "cell_type": "code",
   "execution_count": 166,
   "id": "6573ee3d-1da5-4d17-95ec-82c22b67a275",
   "metadata": {},
   "outputs": [
    {
     "data": {
      "text/html": [
       "<div>\n",
       "<style scoped>\n",
       "    .dataframe tbody tr th:only-of-type {\n",
       "        vertical-align: middle;\n",
       "    }\n",
       "\n",
       "    .dataframe tbody tr th {\n",
       "        vertical-align: top;\n",
       "    }\n",
       "\n",
       "    .dataframe thead th {\n",
       "        text-align: right;\n",
       "    }\n",
       "</style>\n",
       "<table border=\"1\" class=\"dataframe\">\n",
       "  <thead>\n",
       "    <tr style=\"text-align: right;\">\n",
       "      <th></th>\n",
       "      <th>CLOSE</th>\n",
       "      <th>date</th>\n",
       "    </tr>\n",
       "  </thead>\n",
       "  <tbody>\n",
       "    <tr>\n",
       "      <th>0</th>\n",
       "      <td>1.00770</td>\n",
       "      <td>2000-01-03 00:00:00</td>\n",
       "    </tr>\n",
       "    <tr>\n",
       "      <th>1</th>\n",
       "      <td>1.00860</td>\n",
       "      <td>2000-01-03 00:15:00</td>\n",
       "    </tr>\n",
       "    <tr>\n",
       "      <th>2</th>\n",
       "      <td>1.00790</td>\n",
       "      <td>2000-01-03 00:30:00</td>\n",
       "    </tr>\n",
       "    <tr>\n",
       "      <th>3</th>\n",
       "      <td>1.01280</td>\n",
       "      <td>2000-01-03 00:45:00</td>\n",
       "    </tr>\n",
       "    <tr>\n",
       "      <th>4</th>\n",
       "      <td>1.01220</td>\n",
       "      <td>2000-01-03 01:00:00</td>\n",
       "    </tr>\n",
       "    <tr>\n",
       "      <th>...</th>\n",
       "      <td>...</td>\n",
       "      <td>...</td>\n",
       "    </tr>\n",
       "    <tr>\n",
       "      <th>500746</th>\n",
       "      <td>1.08895</td>\n",
       "      <td>2020-03-19 05:00:00</td>\n",
       "    </tr>\n",
       "    <tr>\n",
       "      <th>500747</th>\n",
       "      <td>1.08872</td>\n",
       "      <td>2020-03-19 05:15:00</td>\n",
       "    </tr>\n",
       "    <tr>\n",
       "      <th>500748</th>\n",
       "      <td>1.09086</td>\n",
       "      <td>2020-03-19 05:30:00</td>\n",
       "    </tr>\n",
       "    <tr>\n",
       "      <th>500749</th>\n",
       "      <td>1.08970</td>\n",
       "      <td>2020-03-19 05:45:00</td>\n",
       "    </tr>\n",
       "    <tr>\n",
       "      <th>500750</th>\n",
       "      <td>1.08965</td>\n",
       "      <td>2020-03-19 06:00:00</td>\n",
       "    </tr>\n",
       "  </tbody>\n",
       "</table>\n",
       "<p>500751 rows × 2 columns</p>\n",
       "</div>"
      ],
      "text/plain": [
       "          CLOSE                date\n",
       "0       1.00770 2000-01-03 00:00:00\n",
       "1       1.00860 2000-01-03 00:15:00\n",
       "2       1.00790 2000-01-03 00:30:00\n",
       "3       1.01280 2000-01-03 00:45:00\n",
       "4       1.01220 2000-01-03 01:00:00\n",
       "...         ...                 ...\n",
       "500746  1.08895 2020-03-19 05:00:00\n",
       "500747  1.08872 2020-03-19 05:15:00\n",
       "500748  1.09086 2020-03-19 05:30:00\n",
       "500749  1.08970 2020-03-19 05:45:00\n",
       "500750  1.08965 2020-03-19 06:00:00\n",
       "\n",
       "[500751 rows x 2 columns]"
      ]
     },
     "execution_count": 166,
     "metadata": {},
     "output_type": "execute_result"
    }
   ],
   "source": [
    "eurusd_data"
   ]
  },
  {
   "cell_type": "code",
   "execution_count": 204,
   "id": "85c8be94-4da1-4a52-bc73-a2b09434c488",
   "metadata": {},
   "outputs": [
    {
     "data": {
      "text/html": [
       "<div>\n",
       "<style scoped>\n",
       "    .dataframe tbody tr th:only-of-type {\n",
       "        vertical-align: middle;\n",
       "    }\n",
       "\n",
       "    .dataframe tbody tr th {\n",
       "        vertical-align: top;\n",
       "    }\n",
       "\n",
       "    .dataframe thead th {\n",
       "        text-align: right;\n",
       "    }\n",
       "</style>\n",
       "<table border=\"1\" class=\"dataframe\">\n",
       "  <thead>\n",
       "    <tr style=\"text-align: right;\">\n",
       "      <th></th>\n",
       "      <th>CLOSE</th>\n",
       "      <th>date</th>\n",
       "      <th>ret</th>\n",
       "    </tr>\n",
       "  </thead>\n",
       "  <tbody>\n",
       "    <tr>\n",
       "      <th>95</th>\n",
       "      <td>1.02460</td>\n",
       "      <td>2000-01-03</td>\n",
       "      <td>NaN</td>\n",
       "    </tr>\n",
       "    <tr>\n",
       "      <th>189</th>\n",
       "      <td>1.02920</td>\n",
       "      <td>2000-01-04</td>\n",
       "      <td>0.004480</td>\n",
       "    </tr>\n",
       "    <tr>\n",
       "      <th>285</th>\n",
       "      <td>1.03260</td>\n",
       "      <td>2000-01-05</td>\n",
       "      <td>0.003298</td>\n",
       "    </tr>\n",
       "    <tr>\n",
       "      <th>381</th>\n",
       "      <td>1.03300</td>\n",
       "      <td>2000-01-06</td>\n",
       "      <td>0.000387</td>\n",
       "    </tr>\n",
       "    <tr>\n",
       "      <th>477</th>\n",
       "      <td>1.02980</td>\n",
       "      <td>2000-01-07</td>\n",
       "      <td>-0.003103</td>\n",
       "    </tr>\n",
       "    <tr>\n",
       "      <th>...</th>\n",
       "      <td>...</td>\n",
       "      <td>...</td>\n",
       "      <td>...</td>\n",
       "    </tr>\n",
       "    <tr>\n",
       "      <th>500437</th>\n",
       "      <td>1.11023</td>\n",
       "      <td>2020-03-13</td>\n",
       "      <td>-0.005766</td>\n",
       "    </tr>\n",
       "    <tr>\n",
       "      <th>500533</th>\n",
       "      <td>1.11775</td>\n",
       "      <td>2020-03-16</td>\n",
       "      <td>0.006751</td>\n",
       "    </tr>\n",
       "    <tr>\n",
       "      <th>500629</th>\n",
       "      <td>1.10055</td>\n",
       "      <td>2020-03-17</td>\n",
       "      <td>-0.015508</td>\n",
       "    </tr>\n",
       "    <tr>\n",
       "      <th>500725</th>\n",
       "      <td>1.09114</td>\n",
       "      <td>2020-03-18</td>\n",
       "      <td>-0.008587</td>\n",
       "    </tr>\n",
       "    <tr>\n",
       "      <th>500750</th>\n",
       "      <td>1.08965</td>\n",
       "      <td>2020-03-19</td>\n",
       "      <td>-0.001366</td>\n",
       "    </tr>\n",
       "  </tbody>\n",
       "</table>\n",
       "<p>5255 rows × 3 columns</p>\n",
       "</div>"
      ],
      "text/plain": [
       "          CLOSE        date       ret\n",
       "95      1.02460  2000-01-03       NaN\n",
       "189     1.02920  2000-01-04  0.004480\n",
       "285     1.03260  2000-01-05  0.003298\n",
       "381     1.03300  2000-01-06  0.000387\n",
       "477     1.02980  2000-01-07 -0.003103\n",
       "...         ...         ...       ...\n",
       "500437  1.11023  2020-03-13 -0.005766\n",
       "500533  1.11775  2020-03-16  0.006751\n",
       "500629  1.10055  2020-03-17 -0.015508\n",
       "500725  1.09114  2020-03-18 -0.008587\n",
       "500750  1.08965  2020-03-19 -0.001366\n",
       "\n",
       "[5255 rows x 3 columns]"
      ]
     },
     "execution_count": 204,
     "metadata": {},
     "output_type": "execute_result"
    }
   ],
   "source": [
    "eurusd_data['date'] = pd.to_datetime(eurusd_data['date'].dt.date)\n",
    "eurusd_data_daily = eurusd_data_daily.groupby('date').tail(1)\n",
    "eurusd_data_daily['ret'] = np.log(eurusd_data_daily['CLOSE']/eurusd_data_daily['CLOSE'].shift())\n",
    "eurusd_data_daily"
   ]
  },
  {
   "cell_type": "code",
   "execution_count": 205,
   "id": "1ccd36c0-412c-4943-9513-0137806f2a5a",
   "metadata": {},
   "outputs": [
    {
     "ename": "KeyError",
     "evalue": "\"['ret'] not in index\"",
     "output_type": "error",
     "traceback": [
      "\u001b[1;31m---------------------------------------------------------------------------\u001b[0m",
      "\u001b[1;31mKeyError\u001b[0m                                  Traceback (most recent call last)",
      "Cell \u001b[1;32mIn[205], line 5\u001b[0m\n\u001b[0;32m      3\u001b[0m best_qL \u001b[38;5;241m=\u001b[39m (\u001b[38;5;241m2\u001b[39m, \u001b[38;5;241m10\u001b[39m)\n\u001b[0;32m      4\u001b[0m \u001b[38;5;28;01mfor\u001b[39;00m q, L \u001b[38;5;129;01min\u001b[39;00m itertools\u001b[38;5;241m.\u001b[39mproduct([\u001b[38;5;241m9\u001b[39m, \u001b[38;5;241m10\u001b[39m, \u001b[38;5;241m11\u001b[39m], [\u001b[38;5;241m14\u001b[39m, \u001b[38;5;241m15\u001b[39m, \u001b[38;5;241m16\u001b[39m]):\n\u001b[1;32m----> 5\u001b[0m     entropy_prev_day \u001b[38;5;241m=\u001b[39m \u001b[43meurusd_data\u001b[49m\u001b[43m[\u001b[49m\u001b[43m[\u001b[49m\u001b[38;5;124;43m'\u001b[39;49m\u001b[38;5;124;43mdate\u001b[39;49m\u001b[38;5;124;43m'\u001b[39;49m\u001b[43m,\u001b[49m\u001b[43m \u001b[49m\u001b[38;5;124;43m'\u001b[39;49m\u001b[38;5;124;43mret\u001b[39;49m\u001b[38;5;124;43m'\u001b[39;49m\u001b[43m]\u001b[49m\u001b[43m]\u001b[49m\u001b[38;5;241m.\u001b[39mdropna()\u001b[38;5;241m.\u001b[39mgroupby(\u001b[38;5;124m'\u001b[39m\u001b[38;5;124mdate\u001b[39m\u001b[38;5;124m'\u001b[39m)\u001b[38;5;241m.\u001b[39mapply(\u001b[38;5;28;01mlambda\u001b[39;00m x: encode_and_entropy(x[\u001b[38;5;124m'\u001b[39m\u001b[38;5;124mret\u001b[39m\u001b[38;5;124m'\u001b[39m], L, q))\u001b[38;5;241m.\u001b[39mshift()\n\u001b[0;32m      6\u001b[0m     mod \u001b[38;5;241m=\u001b[39m sm\u001b[38;5;241m.\u001b[39mOLS(eurusd_data[[\u001b[38;5;124m'\u001b[39m\u001b[38;5;124mdate\u001b[39m\u001b[38;5;124m'\u001b[39m, \u001b[38;5;124m'\u001b[39m\u001b[38;5;124mret_sqd\u001b[39m\u001b[38;5;124m'\u001b[39m]]\u001b[38;5;241m.\u001b[39mset_index(\u001b[38;5;124m'\u001b[39m\u001b[38;5;124mdate\u001b[39m\u001b[38;5;124m'\u001b[39m)\u001b[38;5;241m.\u001b[39mgroupby(\u001b[38;5;124m'\u001b[39m\u001b[38;5;124mdate\u001b[39m\u001b[38;5;124m'\u001b[39m)\u001b[38;5;241m.\u001b[39mmean()\u001b[38;5;241m.\u001b[39miloc[\u001b[38;5;241m1\u001b[39m:], entropy_prev_day\u001b[38;5;241m.\u001b[39mdropna())\n\u001b[0;32m      7\u001b[0m     res \u001b[38;5;241m=\u001b[39m mod\u001b[38;5;241m.\u001b[39mfit()\n",
      "File \u001b[1;32m~\\anaconda3\\envs\\home_research\\lib\\site-packages\\pandas\\core\\frame.py:4108\u001b[0m, in \u001b[0;36mDataFrame.__getitem__\u001b[1;34m(self, key)\u001b[0m\n\u001b[0;32m   4106\u001b[0m     \u001b[38;5;28;01mif\u001b[39;00m is_iterator(key):\n\u001b[0;32m   4107\u001b[0m         key \u001b[38;5;241m=\u001b[39m \u001b[38;5;28mlist\u001b[39m(key)\n\u001b[1;32m-> 4108\u001b[0m     indexer \u001b[38;5;241m=\u001b[39m \u001b[38;5;28;43mself\u001b[39;49m\u001b[38;5;241;43m.\u001b[39;49m\u001b[43mcolumns\u001b[49m\u001b[38;5;241;43m.\u001b[39;49m\u001b[43m_get_indexer_strict\u001b[49m\u001b[43m(\u001b[49m\u001b[43mkey\u001b[49m\u001b[43m,\u001b[49m\u001b[43m \u001b[49m\u001b[38;5;124;43m\"\u001b[39;49m\u001b[38;5;124;43mcolumns\u001b[39;49m\u001b[38;5;124;43m\"\u001b[39;49m\u001b[43m)\u001b[49m[\u001b[38;5;241m1\u001b[39m]\n\u001b[0;32m   4110\u001b[0m \u001b[38;5;66;03m# take() does not accept boolean indexers\u001b[39;00m\n\u001b[0;32m   4111\u001b[0m \u001b[38;5;28;01mif\u001b[39;00m \u001b[38;5;28mgetattr\u001b[39m(indexer, \u001b[38;5;124m\"\u001b[39m\u001b[38;5;124mdtype\u001b[39m\u001b[38;5;124m\"\u001b[39m, \u001b[38;5;28;01mNone\u001b[39;00m) \u001b[38;5;241m==\u001b[39m \u001b[38;5;28mbool\u001b[39m:\n",
      "File \u001b[1;32m~\\anaconda3\\envs\\home_research\\lib\\site-packages\\pandas\\core\\indexes\\base.py:6200\u001b[0m, in \u001b[0;36mIndex._get_indexer_strict\u001b[1;34m(self, key, axis_name)\u001b[0m\n\u001b[0;32m   6197\u001b[0m \u001b[38;5;28;01melse\u001b[39;00m:\n\u001b[0;32m   6198\u001b[0m     keyarr, indexer, new_indexer \u001b[38;5;241m=\u001b[39m \u001b[38;5;28mself\u001b[39m\u001b[38;5;241m.\u001b[39m_reindex_non_unique(keyarr)\n\u001b[1;32m-> 6200\u001b[0m \u001b[38;5;28;43mself\u001b[39;49m\u001b[38;5;241;43m.\u001b[39;49m\u001b[43m_raise_if_missing\u001b[49m\u001b[43m(\u001b[49m\u001b[43mkeyarr\u001b[49m\u001b[43m,\u001b[49m\u001b[43m \u001b[49m\u001b[43mindexer\u001b[49m\u001b[43m,\u001b[49m\u001b[43m \u001b[49m\u001b[43maxis_name\u001b[49m\u001b[43m)\u001b[49m\n\u001b[0;32m   6202\u001b[0m keyarr \u001b[38;5;241m=\u001b[39m \u001b[38;5;28mself\u001b[39m\u001b[38;5;241m.\u001b[39mtake(indexer)\n\u001b[0;32m   6203\u001b[0m \u001b[38;5;28;01mif\u001b[39;00m \u001b[38;5;28misinstance\u001b[39m(key, Index):\n\u001b[0;32m   6204\u001b[0m     \u001b[38;5;66;03m# GH 42790 - Preserve name from an Index\u001b[39;00m\n",
      "File \u001b[1;32m~\\anaconda3\\envs\\home_research\\lib\\site-packages\\pandas\\core\\indexes\\base.py:6252\u001b[0m, in \u001b[0;36mIndex._raise_if_missing\u001b[1;34m(self, key, indexer, axis_name)\u001b[0m\n\u001b[0;32m   6249\u001b[0m     \u001b[38;5;28;01mraise\u001b[39;00m \u001b[38;5;167;01mKeyError\u001b[39;00m(\u001b[38;5;124mf\u001b[39m\u001b[38;5;124m\"\u001b[39m\u001b[38;5;124mNone of [\u001b[39m\u001b[38;5;132;01m{\u001b[39;00mkey\u001b[38;5;132;01m}\u001b[39;00m\u001b[38;5;124m] are in the [\u001b[39m\u001b[38;5;132;01m{\u001b[39;00maxis_name\u001b[38;5;132;01m}\u001b[39;00m\u001b[38;5;124m]\u001b[39m\u001b[38;5;124m\"\u001b[39m)\n\u001b[0;32m   6251\u001b[0m not_found \u001b[38;5;241m=\u001b[39m \u001b[38;5;28mlist\u001b[39m(ensure_index(key)[missing_mask\u001b[38;5;241m.\u001b[39mnonzero()[\u001b[38;5;241m0\u001b[39m]]\u001b[38;5;241m.\u001b[39munique())\n\u001b[1;32m-> 6252\u001b[0m \u001b[38;5;28;01mraise\u001b[39;00m \u001b[38;5;167;01mKeyError\u001b[39;00m(\u001b[38;5;124mf\u001b[39m\u001b[38;5;124m\"\u001b[39m\u001b[38;5;132;01m{\u001b[39;00mnot_found\u001b[38;5;132;01m}\u001b[39;00m\u001b[38;5;124m not in index\u001b[39m\u001b[38;5;124m\"\u001b[39m)\n",
      "\u001b[1;31mKeyError\u001b[0m: \"['ret'] not in index\""
     ]
    }
   ],
   "source": [
    "import itertools\n",
    "best_rsqd = 0\n",
    "best_qL = (2, 10)\n",
    "for q, L in itertools.product([9, 10, 11], [14, 15, 16]):\n",
    "    entropy_prev_day = eurusd_data[['date', 'ret']].dropna().groupby('date').apply(lambda x: encode_and_entropy(x['ret'], L, q)).shift()\n",
    "    mod = sm.OLS(eurusd_data[['date', 'ret_sqd']].set_index('date').groupby('date').mean().iloc[1:], entropy_prev_day.dropna())\n",
    "    res = mod.fit()\n",
    "    print(q, L, res.rsquared)\n",
    "    best_rsqd = max(res.rsquared, best_rsqd)\n",
    "    if res.rsquared == best_rsqd:\n",
    "        best_qL = (q, L)\n",
    "print(best_qL, best_rsqd)"
   ]
  },
  {
   "cell_type": "markdown",
   "id": "6bfd06d5-42d0-4543-8ac4-a28760b880e5",
   "metadata": {},
   "source": [
    "#### this low frequency data kinda seems worse\n",
    "lets:\n",
    "- re-look at how to calculate entropy\n",
    "- re-look at how to calculate/estimate variance (just use r^2 or rolling value)\n",
    "- then lets re-look at the estimators"
   ]
  },
  {
   "cell_type": "code",
   "execution_count": 71,
   "id": "1fabb4d6-9fa4-40ee-8ac9-901946deee59",
   "metadata": {},
   "outputs": [],
   "source": [
    "from arch import arch_model"
   ]
  },
  {
   "cell_type": "code",
   "execution_count": 179,
   "id": "86a2c5bb-a585-44d8-a85e-3598ffa05e57",
   "metadata": {},
   "outputs": [],
   "source": [
    "eurusd_data_daily.set_index('date', inplace=True)"
   ]
  },
  {
   "cell_type": "code",
   "execution_count": 180,
   "id": "3ad2b05f-72a4-4fd2-a843-d0234e4e0720",
   "metadata": {},
   "outputs": [
    {
     "data": {
      "text/html": [
       "<div>\n",
       "<style scoped>\n",
       "    .dataframe tbody tr th:only-of-type {\n",
       "        vertical-align: middle;\n",
       "    }\n",
       "\n",
       "    .dataframe tbody tr th {\n",
       "        vertical-align: top;\n",
       "    }\n",
       "\n",
       "    .dataframe thead th {\n",
       "        text-align: right;\n",
       "    }\n",
       "</style>\n",
       "<table border=\"1\" class=\"dataframe\">\n",
       "  <thead>\n",
       "    <tr style=\"text-align: right;\">\n",
       "      <th></th>\n",
       "      <th>CLOSE</th>\n",
       "      <th>ret</th>\n",
       "    </tr>\n",
       "    <tr>\n",
       "      <th>date</th>\n",
       "      <th></th>\n",
       "      <th></th>\n",
       "    </tr>\n",
       "  </thead>\n",
       "  <tbody>\n",
       "    <tr>\n",
       "      <th>2000-01-03 00:00:00</th>\n",
       "      <td>1.00770</td>\n",
       "      <td>NaN</td>\n",
       "    </tr>\n",
       "    <tr>\n",
       "      <th>2000-01-03 00:15:00</th>\n",
       "      <td>1.00860</td>\n",
       "      <td>0.000893</td>\n",
       "    </tr>\n",
       "    <tr>\n",
       "      <th>2000-01-03 00:30:00</th>\n",
       "      <td>1.00790</td>\n",
       "      <td>-0.000694</td>\n",
       "    </tr>\n",
       "    <tr>\n",
       "      <th>2000-01-03 00:45:00</th>\n",
       "      <td>1.01280</td>\n",
       "      <td>0.004850</td>\n",
       "    </tr>\n",
       "    <tr>\n",
       "      <th>2000-01-03 01:00:00</th>\n",
       "      <td>1.01220</td>\n",
       "      <td>-0.000593</td>\n",
       "    </tr>\n",
       "    <tr>\n",
       "      <th>...</th>\n",
       "      <td>...</td>\n",
       "      <td>...</td>\n",
       "    </tr>\n",
       "    <tr>\n",
       "      <th>2020-03-19 05:00:00</th>\n",
       "      <td>1.08895</td>\n",
       "      <td>0.000854</td>\n",
       "    </tr>\n",
       "    <tr>\n",
       "      <th>2020-03-19 05:15:00</th>\n",
       "      <td>1.08872</td>\n",
       "      <td>-0.000211</td>\n",
       "    </tr>\n",
       "    <tr>\n",
       "      <th>2020-03-19 05:30:00</th>\n",
       "      <td>1.09086</td>\n",
       "      <td>0.001964</td>\n",
       "    </tr>\n",
       "    <tr>\n",
       "      <th>2020-03-19 05:45:00</th>\n",
       "      <td>1.08970</td>\n",
       "      <td>-0.001064</td>\n",
       "    </tr>\n",
       "    <tr>\n",
       "      <th>2020-03-19 06:00:00</th>\n",
       "      <td>1.08965</td>\n",
       "      <td>-0.000046</td>\n",
       "    </tr>\n",
       "  </tbody>\n",
       "</table>\n",
       "<p>500751 rows × 2 columns</p>\n",
       "</div>"
      ],
      "text/plain": [
       "                       CLOSE       ret\n",
       "date                                  \n",
       "2000-01-03 00:00:00  1.00770       NaN\n",
       "2000-01-03 00:15:00  1.00860  0.000893\n",
       "2000-01-03 00:30:00  1.00790 -0.000694\n",
       "2000-01-03 00:45:00  1.01280  0.004850\n",
       "2000-01-03 01:00:00  1.01220 -0.000593\n",
       "...                      ...       ...\n",
       "2020-03-19 05:00:00  1.08895  0.000854\n",
       "2020-03-19 05:15:00  1.08872 -0.000211\n",
       "2020-03-19 05:30:00  1.09086  0.001964\n",
       "2020-03-19 05:45:00  1.08970 -0.001064\n",
       "2020-03-19 06:00:00  1.08965 -0.000046\n",
       "\n",
       "[500751 rows x 2 columns]"
      ]
     },
     "execution_count": 180,
     "metadata": {},
     "output_type": "execute_result"
    }
   ],
   "source": [
    "eurusd_data_daily"
   ]
  },
  {
   "cell_type": "code",
   "execution_count": 209,
   "id": "483f1478-12e3-4285-8e0d-4a847665d302",
   "metadata": {},
   "outputs": [],
   "source": [
    "eurusd_data_daily.set_index('date', inplace=True)"
   ]
  },
  {
   "cell_type": "code",
   "execution_count": 214,
   "id": "967071bf-8c3b-4e14-b198-922bdc9bb015",
   "metadata": {},
   "outputs": [],
   "source": [
    "eurusd_ret.index = pd.to_datetime(eurusd_ret.index)"
   ]
  },
  {
   "cell_type": "code",
   "execution_count": 216,
   "id": "3c7e7163-6c8d-4bac-bf86-f898d395286f",
   "metadata": {},
   "outputs": [
    {
     "name": "stdout",
     "output_type": "stream",
     "text": [
      "Iteration:      5,   Func. Count:     54,   Neg. LLF: 2251.199097291702\n",
      "Optimization terminated successfully    (Exit mode 0)\n",
      "            Current function value: -906.8959488230971\n",
      "            Iterations: 13\n",
      "            Function evaluations: 95\n",
      "            Gradient evaluations: 9\n",
      "                 h.1\n",
      "date                \n",
      "2001-01-03  0.000064\n",
      "2001-01-04  0.000069\n",
      "2001-01-05  0.000068\n",
      "2001-01-08  0.000067\n",
      "2001-01-09  0.000066\n"
     ]
    },
    {
     "name": "stderr",
     "output_type": "stream",
     "text": [
      "C:\\Users\\camer\\anaconda3\\envs\\home_research\\lib\\site-packages\\arch\\univariate\\base.py:309: DataScaleWarning: y is poorly scaled, which may affect convergence of the optimizer when\n",
      "estimating the model parameters. The scale of y is 5.781e-05. Parameter\n",
      "estimation work better when this value is between 1 and 1000. The recommended\n",
      "rescaling is 100 * y.\n",
      "\n",
      "This warning can be disabled by either rescaling y before initializing the\n",
      "model or by setting rescale=False.\n",
      "\n",
      "  warnings.warn(\n"
     ]
    }
   ],
   "source": [
    "from datetime import datetime\n",
    "\n",
    "#index = eurusd_data_daily.index\n",
    "#end_loc = np.where(index >= \"2000-01-05\")[0].min()\n",
    "\n",
    "# eurusd_ret = eurusd_data_daily['ret'].dropna()\n",
    "am = arch_model(eurusd_ret, vol=\"Garch\", p=1, o=0, q=1, dist=\"Normal\")\n",
    "res = am.fit(last_obs=\"2001-01-04\", update_freq=5) # fits up to last obs, then applies the forecasts to the observations as they come in (I don't think we are just doing a forecast using prev estimate, we should be using observation)\n",
    "forecasts = res.forecast()\n",
    "print(forecasts.variance.dropna().head())"
   ]
  },
  {
   "cell_type": "code",
   "execution_count": 217,
   "id": "f266c66f-0e25-42c8-9585-cfb49b21faf7",
   "metadata": {},
   "outputs": [
    {
     "data": {
      "text/html": [
       "<div>\n",
       "<style scoped>\n",
       "    .dataframe tbody tr th:only-of-type {\n",
       "        vertical-align: middle;\n",
       "    }\n",
       "\n",
       "    .dataframe tbody tr th {\n",
       "        vertical-align: top;\n",
       "    }\n",
       "\n",
       "    .dataframe thead th {\n",
       "        text-align: right;\n",
       "    }\n",
       "</style>\n",
       "<table border=\"1\" class=\"dataframe\">\n",
       "  <thead>\n",
       "    <tr style=\"text-align: right;\">\n",
       "      <th></th>\n",
       "      <th>h.1</th>\n",
       "    </tr>\n",
       "    <tr>\n",
       "      <th>date</th>\n",
       "      <th></th>\n",
       "    </tr>\n",
       "  </thead>\n",
       "  <tbody>\n",
       "    <tr>\n",
       "      <th>2001-01-03</th>\n",
       "      <td>0.000064</td>\n",
       "    </tr>\n",
       "    <tr>\n",
       "      <th>2001-01-04</th>\n",
       "      <td>0.000069</td>\n",
       "    </tr>\n",
       "    <tr>\n",
       "      <th>2001-01-05</th>\n",
       "      <td>0.000068</td>\n",
       "    </tr>\n",
       "    <tr>\n",
       "      <th>2001-01-08</th>\n",
       "      <td>0.000067</td>\n",
       "    </tr>\n",
       "    <tr>\n",
       "      <th>2001-01-09</th>\n",
       "      <td>0.000066</td>\n",
       "    </tr>\n",
       "    <tr>\n",
       "      <th>...</th>\n",
       "      <td>...</td>\n",
       "    </tr>\n",
       "    <tr>\n",
       "      <th>2020-03-13</th>\n",
       "      <td>0.000058</td>\n",
       "    </tr>\n",
       "    <tr>\n",
       "      <th>2020-03-16</th>\n",
       "      <td>0.000058</td>\n",
       "    </tr>\n",
       "    <tr>\n",
       "      <th>2020-03-17</th>\n",
       "      <td>0.000059</td>\n",
       "    </tr>\n",
       "    <tr>\n",
       "      <th>2020-03-18</th>\n",
       "      <td>0.000059</td>\n",
       "    </tr>\n",
       "    <tr>\n",
       "      <th>2020-03-19</th>\n",
       "      <td>0.000059</td>\n",
       "    </tr>\n",
       "  </tbody>\n",
       "</table>\n",
       "<p>4993 rows × 1 columns</p>\n",
       "</div>"
      ],
      "text/plain": [
       "                 h.1\n",
       "date                \n",
       "2001-01-03  0.000064\n",
       "2001-01-04  0.000069\n",
       "2001-01-05  0.000068\n",
       "2001-01-08  0.000067\n",
       "2001-01-09  0.000066\n",
       "...              ...\n",
       "2020-03-13  0.000058\n",
       "2020-03-16  0.000058\n",
       "2020-03-17  0.000059\n",
       "2020-03-18  0.000059\n",
       "2020-03-19  0.000059\n",
       "\n",
       "[4993 rows x 1 columns]"
      ]
     },
     "execution_count": 217,
     "metadata": {},
     "output_type": "execute_result"
    }
   ],
   "source": [
    "forecasts.variance"
   ]
  },
  {
   "cell_type": "code",
   "execution_count": null,
   "id": "3939c4f7-2fd4-4058-b7a0-68d954c9257b",
   "metadata": {},
   "outputs": [],
   "source": [
    "# define model\n",
    "model = arch_model(eurusd_data['ret'], mean='Zero', vol='GARCH', p=1, q=1)\n",
    "# fit model\n",
    "model_fit = model.fit()\n",
    "# forecast the test set\n",
    "yhat = model_fit.forecast(horizon=n_test) # we don't actually want to forecast here\n",
    "# plot the actual variance\n",
    "var = [i*0.01 for i in range(0,100)]\n",
    "pyplot.plot(var[-n_test:])\n",
    "# plot forecast variance\n",
    "pyplot.plot(yhat.variance.values[-1, :])\n",
    "pyplot.show()"
   ]
  },
  {
   "cell_type": "markdown",
   "id": "35a1c65a-ae8c-444b-8d0a-b12c21a986fb",
   "metadata": {},
   "source": [
    "#### Later:\n",
    "- look at garch model volatility and see if it predicts volatility correctly --> note that with garch we get a prediction of vol for every time point so be careful with this, look at how other papers have handled volatility. Thinking about what the book was saying, I think we'd just need to use daily returns here to estimate the volatility, not the fine grain stuff (the finer grain vol provides the better estimate by just using the estimators, this is why the book suggested we needed to use fine grain volatility).\n",
    "- compare garch model to entropy predicted model --> still take a look at the ratio of sequence length to total length and q etc for entropy estimation; might be better to look at higher frequency data for this reason (we could still do daily returns but with 1 minute time points)\n",
    "- look at combining the two, should probably make garch/prev day volatility the benchmark\n",
    "- Form a solid univariate model connecting entropy estimation to volatility\n",
    "- Perhaps then look at multivariate, bring in mutual entropy/information and see if we can predict the entire covariance matrix"
   ]
  },
  {
   "cell_type": "code",
   "execution_count": null,
   "id": "36aed37a-aff3-4879-8e67-a2892f96dbef",
   "metadata": {},
   "outputs": [],
   "source": []
  }
 ],
 "metadata": {
  "kernelspec": {
   "display_name": "home_research",
   "language": "python",
   "name": "home_research"
  },
  "language_info": {
   "codemirror_mode": {
    "name": "ipython",
    "version": 3
   },
   "file_extension": ".py",
   "mimetype": "text/x-python",
   "name": "python",
   "nbconvert_exporter": "python",
   "pygments_lexer": "ipython3",
   "version": "3.10.14"
  }
 },
 "nbformat": 4,
 "nbformat_minor": 5
}
